{
 "cells": [
  {
   "cell_type": "markdown",
   "metadata": {},
   "source": [
    "# Elo Category Recommendation"
   ]
  },
  {
   "cell_type": "markdown",
   "metadata": {},
   "source": [
    "1. Loading packages\n",
    "2. Exploratory analysis\n",
    " - 2.1. Missing data\n",
    " - 2.2. Time/date analysis + feature engineering\n",
    "3. Feature selection\n",
    "4. Modelling"
   ]
  },
  {
   "cell_type": "markdown",
   "metadata": {},
   "source": [
    "# 1. Loading packages"
   ]
  },
  {
   "cell_type": "markdown",
   "metadata": {},
   "source": [
    "We start by loading the main packages we will use on this analysis"
   ]
  },
  {
   "cell_type": "code",
   "execution_count": 1,
   "metadata": {},
   "outputs": [],
   "source": [
    "# Import packages\n",
    "import numpy as np \n",
    "import pandas as pd \n",
    "import seaborn as sns\n",
    "from scipy import stats\n",
    "import datetime as dt\n",
    "import matplotlib.pyplot as plt\n",
    "import lightgbm as lgb\n",
    "import pickle\n",
    "from tqdm import tqdm\n",
    "from feature_selector import FeatureSelector\n",
    "from myutils import *\n",
    "\n",
    "import warnings\n",
    "warnings.filterwarnings(\"ignore\")\n",
    "%matplotlib inline\n",
    "\n",
    "import sys\n",
    "import timeit\n",
    "import gc\n",
    "\n",
    "#pd.set_option('display.float_format', lambda x: '%.6f' % x)\n",
    "pd.set_option('display.max_columns', 300)"
   ]
  },
  {
   "cell_type": "code",
   "execution_count": 2,
   "metadata": {},
   "outputs": [],
   "source": [
    "# Load data into pandas dataframes\n",
    "train_data = pd.read_csv('DSA_04/train.csv')\n",
    "test_data = pd.read_csv('DSA_04/test.csv')\n",
    "merchants = pd.read_csv('DSA_04/merchants.csv')\n",
    "new_transactions = pd.read_csv('DSA_04/new_merchant_transactions.csv')\n",
    "transactions = pd.read_csv('DSA_04/historical_transactions.csv')\n",
    "sample_submission = pd.read_csv('DSA_04/sample_submission.csv')"
   ]
  },
  {
   "cell_type": "markdown",
   "metadata": {},
   "source": [
    "# 2. Exploratory analysis"
   ]
  },
  {
   "cell_type": "markdown",
   "metadata": {},
   "source": [
    "Let's preview our datasets to see how they look like"
   ]
  },
  {
   "cell_type": "code",
   "execution_count": 3,
   "metadata": {},
   "outputs": [
    {
     "data": {
      "text/html": [
       "<div>\n",
       "<style scoped>\n",
       "    .dataframe tbody tr th:only-of-type {\n",
       "        vertical-align: middle;\n",
       "    }\n",
       "\n",
       "    .dataframe tbody tr th {\n",
       "        vertical-align: top;\n",
       "    }\n",
       "\n",
       "    .dataframe thead th {\n",
       "        text-align: right;\n",
       "    }\n",
       "</style>\n",
       "<table border=\"1\" class=\"dataframe\">\n",
       "  <thead>\n",
       "    <tr style=\"text-align: right;\">\n",
       "      <th></th>\n",
       "      <th>first_active_month</th>\n",
       "      <th>card_id</th>\n",
       "      <th>feature_1</th>\n",
       "      <th>feature_2</th>\n",
       "      <th>feature_3</th>\n",
       "      <th>target</th>\n",
       "    </tr>\n",
       "  </thead>\n",
       "  <tbody>\n",
       "    <tr>\n",
       "      <th>0</th>\n",
       "      <td>2017-06</td>\n",
       "      <td>C_ID_92a2005557</td>\n",
       "      <td>5</td>\n",
       "      <td>2</td>\n",
       "      <td>1</td>\n",
       "      <td>-0.820283</td>\n",
       "    </tr>\n",
       "    <tr>\n",
       "      <th>1</th>\n",
       "      <td>2017-01</td>\n",
       "      <td>C_ID_3d0044924f</td>\n",
       "      <td>4</td>\n",
       "      <td>1</td>\n",
       "      <td>0</td>\n",
       "      <td>0.392913</td>\n",
       "    </tr>\n",
       "    <tr>\n",
       "      <th>2</th>\n",
       "      <td>2016-08</td>\n",
       "      <td>C_ID_d639edf6cd</td>\n",
       "      <td>2</td>\n",
       "      <td>2</td>\n",
       "      <td>0</td>\n",
       "      <td>0.688056</td>\n",
       "    </tr>\n",
       "    <tr>\n",
       "      <th>201914</th>\n",
       "      <td>2017-08</td>\n",
       "      <td>C_ID_7666735b3d</td>\n",
       "      <td>4</td>\n",
       "      <td>3</td>\n",
       "      <td>0</td>\n",
       "      <td>0.093494</td>\n",
       "    </tr>\n",
       "    <tr>\n",
       "      <th>201915</th>\n",
       "      <td>2016-07</td>\n",
       "      <td>C_ID_73f5a0efd0</td>\n",
       "      <td>3</td>\n",
       "      <td>2</td>\n",
       "      <td>1</td>\n",
       "      <td>-4.676589</td>\n",
       "    </tr>\n",
       "    <tr>\n",
       "      <th>201916</th>\n",
       "      <td>2017-07</td>\n",
       "      <td>C_ID_92c9984c58</td>\n",
       "      <td>3</td>\n",
       "      <td>1</td>\n",
       "      <td>1</td>\n",
       "      <td>-1.859413</td>\n",
       "    </tr>\n",
       "  </tbody>\n",
       "</table>\n",
       "</div>"
      ],
      "text/plain": [
       "       first_active_month          card_id  feature_1  feature_2  feature_3  \\\n",
       "0                 2017-06  C_ID_92a2005557          5          2          1   \n",
       "1                 2017-01  C_ID_3d0044924f          4          1          0   \n",
       "2                 2016-08  C_ID_d639edf6cd          2          2          0   \n",
       "201914            2017-08  C_ID_7666735b3d          4          3          0   \n",
       "201915            2016-07  C_ID_73f5a0efd0          3          2          1   \n",
       "201916            2017-07  C_ID_92c9984c58          3          1          1   \n",
       "\n",
       "          target  \n",
       "0      -0.820283  \n",
       "1       0.392913  \n",
       "2       0.688056  \n",
       "201914  0.093494  \n",
       "201915 -4.676589  \n",
       "201916 -1.859413  "
      ]
     },
     "execution_count": 3,
     "metadata": {},
     "output_type": "execute_result"
    }
   ],
   "source": [
    "# Preview of train dataset\n",
    "train_data.head(3).append(train_data.tail(3))"
   ]
  },
  {
   "cell_type": "code",
   "execution_count": 4,
   "metadata": {},
   "outputs": [
    {
     "data": {
      "text/html": [
       "<div>\n",
       "<style scoped>\n",
       "    .dataframe tbody tr th:only-of-type {\n",
       "        vertical-align: middle;\n",
       "    }\n",
       "\n",
       "    .dataframe tbody tr th {\n",
       "        vertical-align: top;\n",
       "    }\n",
       "\n",
       "    .dataframe thead th {\n",
       "        text-align: right;\n",
       "    }\n",
       "</style>\n",
       "<table border=\"1\" class=\"dataframe\">\n",
       "  <thead>\n",
       "    <tr style=\"text-align: right;\">\n",
       "      <th></th>\n",
       "      <th>first_active_month</th>\n",
       "      <th>card_id</th>\n",
       "      <th>feature_1</th>\n",
       "      <th>feature_2</th>\n",
       "      <th>feature_3</th>\n",
       "    </tr>\n",
       "  </thead>\n",
       "  <tbody>\n",
       "    <tr>\n",
       "      <th>0</th>\n",
       "      <td>2017-04</td>\n",
       "      <td>C_ID_0ab67a22ab</td>\n",
       "      <td>3</td>\n",
       "      <td>3</td>\n",
       "      <td>1</td>\n",
       "    </tr>\n",
       "    <tr>\n",
       "      <th>1</th>\n",
       "      <td>2017-01</td>\n",
       "      <td>C_ID_130fd0cbdd</td>\n",
       "      <td>2</td>\n",
       "      <td>3</td>\n",
       "      <td>0</td>\n",
       "    </tr>\n",
       "    <tr>\n",
       "      <th>2</th>\n",
       "      <td>2017-08</td>\n",
       "      <td>C_ID_b709037bc5</td>\n",
       "      <td>5</td>\n",
       "      <td>1</td>\n",
       "      <td>1</td>\n",
       "    </tr>\n",
       "    <tr>\n",
       "      <th>123620</th>\n",
       "      <td>2016-09</td>\n",
       "      <td>C_ID_21d56d950c</td>\n",
       "      <td>5</td>\n",
       "      <td>1</td>\n",
       "      <td>1</td>\n",
       "    </tr>\n",
       "    <tr>\n",
       "      <th>123621</th>\n",
       "      <td>2017-06</td>\n",
       "      <td>C_ID_6c46fc5a9d</td>\n",
       "      <td>2</td>\n",
       "      <td>1</td>\n",
       "      <td>0</td>\n",
       "    </tr>\n",
       "    <tr>\n",
       "      <th>123622</th>\n",
       "      <td>2016-10</td>\n",
       "      <td>C_ID_87e7979a5f</td>\n",
       "      <td>5</td>\n",
       "      <td>1</td>\n",
       "      <td>1</td>\n",
       "    </tr>\n",
       "  </tbody>\n",
       "</table>\n",
       "</div>"
      ],
      "text/plain": [
       "       first_active_month          card_id  feature_1  feature_2  feature_3\n",
       "0                 2017-04  C_ID_0ab67a22ab          3          3          1\n",
       "1                 2017-01  C_ID_130fd0cbdd          2          3          0\n",
       "2                 2017-08  C_ID_b709037bc5          5          1          1\n",
       "123620            2016-09  C_ID_21d56d950c          5          1          1\n",
       "123621            2017-06  C_ID_6c46fc5a9d          2          1          0\n",
       "123622            2016-10  C_ID_87e7979a5f          5          1          1"
      ]
     },
     "execution_count": 4,
     "metadata": {},
     "output_type": "execute_result"
    }
   ],
   "source": [
    "# Preview of test dataset\n",
    "test_data.head(3).append(test_data.tail(3))"
   ]
  },
  {
   "cell_type": "code",
   "execution_count": 5,
   "metadata": {},
   "outputs": [
    {
     "data": {
      "text/html": [
       "<div>\n",
       "<style scoped>\n",
       "    .dataframe tbody tr th:only-of-type {\n",
       "        vertical-align: middle;\n",
       "    }\n",
       "\n",
       "    .dataframe tbody tr th {\n",
       "        vertical-align: top;\n",
       "    }\n",
       "\n",
       "    .dataframe thead th {\n",
       "        text-align: right;\n",
       "    }\n",
       "</style>\n",
       "<table border=\"1\" class=\"dataframe\">\n",
       "  <thead>\n",
       "    <tr style=\"text-align: right;\">\n",
       "      <th></th>\n",
       "      <th>merchant_id</th>\n",
       "      <th>merchant_group_id</th>\n",
       "      <th>merchant_category_id</th>\n",
       "      <th>subsector_id</th>\n",
       "      <th>numerical_1</th>\n",
       "      <th>numerical_2</th>\n",
       "      <th>category_1</th>\n",
       "      <th>most_recent_sales_range</th>\n",
       "      <th>most_recent_purchases_range</th>\n",
       "      <th>avg_sales_lag3</th>\n",
       "      <th>avg_purchases_lag3</th>\n",
       "      <th>active_months_lag3</th>\n",
       "      <th>avg_sales_lag6</th>\n",
       "      <th>avg_purchases_lag6</th>\n",
       "      <th>active_months_lag6</th>\n",
       "      <th>avg_sales_lag12</th>\n",
       "      <th>avg_purchases_lag12</th>\n",
       "      <th>active_months_lag12</th>\n",
       "      <th>category_4</th>\n",
       "      <th>city_id</th>\n",
       "      <th>state_id</th>\n",
       "      <th>category_2</th>\n",
       "    </tr>\n",
       "  </thead>\n",
       "  <tbody>\n",
       "    <tr>\n",
       "      <th>0</th>\n",
       "      <td>M_ID_838061e48c</td>\n",
       "      <td>8353</td>\n",
       "      <td>792</td>\n",
       "      <td>9</td>\n",
       "      <td>-0.057471</td>\n",
       "      <td>-0.057471</td>\n",
       "      <td>N</td>\n",
       "      <td>E</td>\n",
       "      <td>E</td>\n",
       "      <td>-0.40</td>\n",
       "      <td>9.666667</td>\n",
       "      <td>3</td>\n",
       "      <td>-2.25</td>\n",
       "      <td>18.666667</td>\n",
       "      <td>6</td>\n",
       "      <td>-2.32</td>\n",
       "      <td>13.916667</td>\n",
       "      <td>12</td>\n",
       "      <td>N</td>\n",
       "      <td>242</td>\n",
       "      <td>9</td>\n",
       "      <td>1.0</td>\n",
       "    </tr>\n",
       "    <tr>\n",
       "      <th>1</th>\n",
       "      <td>M_ID_9339d880ad</td>\n",
       "      <td>3184</td>\n",
       "      <td>840</td>\n",
       "      <td>20</td>\n",
       "      <td>-0.057471</td>\n",
       "      <td>-0.057471</td>\n",
       "      <td>N</td>\n",
       "      <td>E</td>\n",
       "      <td>E</td>\n",
       "      <td>-0.72</td>\n",
       "      <td>1.750000</td>\n",
       "      <td>3</td>\n",
       "      <td>-0.74</td>\n",
       "      <td>1.291667</td>\n",
       "      <td>6</td>\n",
       "      <td>-0.57</td>\n",
       "      <td>1.687500</td>\n",
       "      <td>12</td>\n",
       "      <td>N</td>\n",
       "      <td>22</td>\n",
       "      <td>16</td>\n",
       "      <td>1.0</td>\n",
       "    </tr>\n",
       "    <tr>\n",
       "      <th>2</th>\n",
       "      <td>M_ID_e726bbae1e</td>\n",
       "      <td>447</td>\n",
       "      <td>690</td>\n",
       "      <td>1</td>\n",
       "      <td>-0.057471</td>\n",
       "      <td>-0.057471</td>\n",
       "      <td>N</td>\n",
       "      <td>E</td>\n",
       "      <td>E</td>\n",
       "      <td>-82.13</td>\n",
       "      <td>260.000000</td>\n",
       "      <td>2</td>\n",
       "      <td>-82.13</td>\n",
       "      <td>260.000000</td>\n",
       "      <td>2</td>\n",
       "      <td>-82.13</td>\n",
       "      <td>260.000000</td>\n",
       "      <td>2</td>\n",
       "      <td>N</td>\n",
       "      <td>-1</td>\n",
       "      <td>5</td>\n",
       "      <td>5.0</td>\n",
       "    </tr>\n",
       "    <tr>\n",
       "      <th>334693</th>\n",
       "      <td>M_ID_f2045dd267</td>\n",
       "      <td>35</td>\n",
       "      <td>561</td>\n",
       "      <td>7</td>\n",
       "      <td>-0.057471</td>\n",
       "      <td>-0.057471</td>\n",
       "      <td>N</td>\n",
       "      <td>A</td>\n",
       "      <td>A</td>\n",
       "      <td>0.96</td>\n",
       "      <td>0.982957</td>\n",
       "      <td>3</td>\n",
       "      <td>0.90</td>\n",
       "      <td>0.924769</td>\n",
       "      <td>6</td>\n",
       "      <td>0.74</td>\n",
       "      <td>0.750763</td>\n",
       "      <td>8</td>\n",
       "      <td>Y</td>\n",
       "      <td>160</td>\n",
       "      <td>21</td>\n",
       "      <td>5.0</td>\n",
       "    </tr>\n",
       "    <tr>\n",
       "      <th>334694</th>\n",
       "      <td>M_ID_9139332ccc</td>\n",
       "      <td>35</td>\n",
       "      <td>511</td>\n",
       "      <td>7</td>\n",
       "      <td>-0.057471</td>\n",
       "      <td>-0.057471</td>\n",
       "      <td>Y</td>\n",
       "      <td>A</td>\n",
       "      <td>A</td>\n",
       "      <td>0.94</td>\n",
       "      <td>0.919558</td>\n",
       "      <td>3</td>\n",
       "      <td>0.82</td>\n",
       "      <td>0.783000</td>\n",
       "      <td>6</td>\n",
       "      <td>0.65</td>\n",
       "      <td>0.584000</td>\n",
       "      <td>12</td>\n",
       "      <td>Y</td>\n",
       "      <td>-1</td>\n",
       "      <td>-1</td>\n",
       "      <td>NaN</td>\n",
       "    </tr>\n",
       "    <tr>\n",
       "      <th>334695</th>\n",
       "      <td>M_ID_cd2c0b07e9</td>\n",
       "      <td>35</td>\n",
       "      <td>606</td>\n",
       "      <td>17</td>\n",
       "      <td>-0.057471</td>\n",
       "      <td>-0.057471</td>\n",
       "      <td>N</td>\n",
       "      <td>A</td>\n",
       "      <td>A</td>\n",
       "      <td>0.90</td>\n",
       "      <td>0.913902</td>\n",
       "      <td>3</td>\n",
       "      <td>0.73</td>\n",
       "      <td>0.744417</td>\n",
       "      <td>6</td>\n",
       "      <td>0.53</td>\n",
       "      <td>0.540334</td>\n",
       "      <td>10</td>\n",
       "      <td>Y</td>\n",
       "      <td>69</td>\n",
       "      <td>9</td>\n",
       "      <td>1.0</td>\n",
       "    </tr>\n",
       "  </tbody>\n",
       "</table>\n",
       "</div>"
      ],
      "text/plain": [
       "            merchant_id  merchant_group_id  merchant_category_id  \\\n",
       "0       M_ID_838061e48c               8353                   792   \n",
       "1       M_ID_9339d880ad               3184                   840   \n",
       "2       M_ID_e726bbae1e                447                   690   \n",
       "334693  M_ID_f2045dd267                 35                   561   \n",
       "334694  M_ID_9139332ccc                 35                   511   \n",
       "334695  M_ID_cd2c0b07e9                 35                   606   \n",
       "\n",
       "        subsector_id  numerical_1  numerical_2 category_1  \\\n",
       "0                  9    -0.057471    -0.057471          N   \n",
       "1                 20    -0.057471    -0.057471          N   \n",
       "2                  1    -0.057471    -0.057471          N   \n",
       "334693             7    -0.057471    -0.057471          N   \n",
       "334694             7    -0.057471    -0.057471          Y   \n",
       "334695            17    -0.057471    -0.057471          N   \n",
       "\n",
       "       most_recent_sales_range most_recent_purchases_range  avg_sales_lag3  \\\n",
       "0                            E                           E           -0.40   \n",
       "1                            E                           E           -0.72   \n",
       "2                            E                           E          -82.13   \n",
       "334693                       A                           A            0.96   \n",
       "334694                       A                           A            0.94   \n",
       "334695                       A                           A            0.90   \n",
       "\n",
       "        avg_purchases_lag3  active_months_lag3  avg_sales_lag6  \\\n",
       "0                 9.666667                   3           -2.25   \n",
       "1                 1.750000                   3           -0.74   \n",
       "2               260.000000                   2          -82.13   \n",
       "334693            0.982957                   3            0.90   \n",
       "334694            0.919558                   3            0.82   \n",
       "334695            0.913902                   3            0.73   \n",
       "\n",
       "        avg_purchases_lag6  active_months_lag6  avg_sales_lag12  \\\n",
       "0                18.666667                   6            -2.32   \n",
       "1                 1.291667                   6            -0.57   \n",
       "2               260.000000                   2           -82.13   \n",
       "334693            0.924769                   6             0.74   \n",
       "334694            0.783000                   6             0.65   \n",
       "334695            0.744417                   6             0.53   \n",
       "\n",
       "        avg_purchases_lag12  active_months_lag12 category_4  city_id  \\\n",
       "0                 13.916667                   12          N      242   \n",
       "1                  1.687500                   12          N       22   \n",
       "2                260.000000                    2          N       -1   \n",
       "334693             0.750763                    8          Y      160   \n",
       "334694             0.584000                   12          Y       -1   \n",
       "334695             0.540334                   10          Y       69   \n",
       "\n",
       "        state_id  category_2  \n",
       "0              9         1.0  \n",
       "1             16         1.0  \n",
       "2              5         5.0  \n",
       "334693        21         5.0  \n",
       "334694        -1         NaN  \n",
       "334695         9         1.0  "
      ]
     },
     "execution_count": 5,
     "metadata": {},
     "output_type": "execute_result"
    }
   ],
   "source": [
    "# Preview of merchants dataset\n",
    "merchants.head(3).append(merchants.tail(3))"
   ]
  },
  {
   "cell_type": "code",
   "execution_count": 6,
   "metadata": {},
   "outputs": [
    {
     "data": {
      "text/html": [
       "<div>\n",
       "<style scoped>\n",
       "    .dataframe tbody tr th:only-of-type {\n",
       "        vertical-align: middle;\n",
       "    }\n",
       "\n",
       "    .dataframe tbody tr th {\n",
       "        vertical-align: top;\n",
       "    }\n",
       "\n",
       "    .dataframe thead th {\n",
       "        text-align: right;\n",
       "    }\n",
       "</style>\n",
       "<table border=\"1\" class=\"dataframe\">\n",
       "  <thead>\n",
       "    <tr style=\"text-align: right;\">\n",
       "      <th></th>\n",
       "      <th>authorized_flag</th>\n",
       "      <th>card_id</th>\n",
       "      <th>city_id</th>\n",
       "      <th>category_1</th>\n",
       "      <th>installments</th>\n",
       "      <th>category_3</th>\n",
       "      <th>merchant_category_id</th>\n",
       "      <th>merchant_id</th>\n",
       "      <th>month_lag</th>\n",
       "      <th>purchase_amount</th>\n",
       "      <th>purchase_date</th>\n",
       "      <th>category_2</th>\n",
       "      <th>state_id</th>\n",
       "      <th>subsector_id</th>\n",
       "    </tr>\n",
       "  </thead>\n",
       "  <tbody>\n",
       "    <tr>\n",
       "      <th>0</th>\n",
       "      <td>Y</td>\n",
       "      <td>C_ID_415bb3a509</td>\n",
       "      <td>107</td>\n",
       "      <td>N</td>\n",
       "      <td>1</td>\n",
       "      <td>B</td>\n",
       "      <td>307</td>\n",
       "      <td>M_ID_b0c793002c</td>\n",
       "      <td>1</td>\n",
       "      <td>-0.557574</td>\n",
       "      <td>2018-03-11 14:57:36</td>\n",
       "      <td>1.0</td>\n",
       "      <td>9</td>\n",
       "      <td>19</td>\n",
       "    </tr>\n",
       "    <tr>\n",
       "      <th>1</th>\n",
       "      <td>Y</td>\n",
       "      <td>C_ID_415bb3a509</td>\n",
       "      <td>140</td>\n",
       "      <td>N</td>\n",
       "      <td>1</td>\n",
       "      <td>B</td>\n",
       "      <td>307</td>\n",
       "      <td>M_ID_88920c89e8</td>\n",
       "      <td>1</td>\n",
       "      <td>-0.569580</td>\n",
       "      <td>2018-03-19 18:53:37</td>\n",
       "      <td>1.0</td>\n",
       "      <td>9</td>\n",
       "      <td>19</td>\n",
       "    </tr>\n",
       "    <tr>\n",
       "      <th>2</th>\n",
       "      <td>Y</td>\n",
       "      <td>C_ID_415bb3a509</td>\n",
       "      <td>330</td>\n",
       "      <td>N</td>\n",
       "      <td>1</td>\n",
       "      <td>B</td>\n",
       "      <td>507</td>\n",
       "      <td>M_ID_ad5237ef6b</td>\n",
       "      <td>2</td>\n",
       "      <td>-0.551037</td>\n",
       "      <td>2018-04-26 14:08:44</td>\n",
       "      <td>1.0</td>\n",
       "      <td>9</td>\n",
       "      <td>14</td>\n",
       "    </tr>\n",
       "    <tr>\n",
       "      <th>1963028</th>\n",
       "      <td>Y</td>\n",
       "      <td>C_ID_bd97b86450</td>\n",
       "      <td>69</td>\n",
       "      <td>N</td>\n",
       "      <td>1</td>\n",
       "      <td>B</td>\n",
       "      <td>278</td>\n",
       "      <td>M_ID_9a9ccb6544</td>\n",
       "      <td>1</td>\n",
       "      <td>-0.621031</td>\n",
       "      <td>2018-03-05 12:04:56</td>\n",
       "      <td>1.0</td>\n",
       "      <td>9</td>\n",
       "      <td>37</td>\n",
       "    </tr>\n",
       "    <tr>\n",
       "      <th>1963029</th>\n",
       "      <td>Y</td>\n",
       "      <td>C_ID_c0513fd84f</td>\n",
       "      <td>130</td>\n",
       "      <td>N</td>\n",
       "      <td>0</td>\n",
       "      <td>A</td>\n",
       "      <td>367</td>\n",
       "      <td>M_ID_40c28d596f</td>\n",
       "      <td>1</td>\n",
       "      <td>-0.656749</td>\n",
       "      <td>2018-03-09 14:47:05</td>\n",
       "      <td>3.0</td>\n",
       "      <td>7</td>\n",
       "      <td>16</td>\n",
       "    </tr>\n",
       "    <tr>\n",
       "      <th>1963030</th>\n",
       "      <td>Y</td>\n",
       "      <td>C_ID_a935410f8e</td>\n",
       "      <td>19</td>\n",
       "      <td>N</td>\n",
       "      <td>0</td>\n",
       "      <td>A</td>\n",
       "      <td>278</td>\n",
       "      <td>M_ID_d855771cd9</td>\n",
       "      <td>2</td>\n",
       "      <td>-0.739395</td>\n",
       "      <td>2018-04-11 07:59:46</td>\n",
       "      <td>1.0</td>\n",
       "      <td>9</td>\n",
       "      <td>37</td>\n",
       "    </tr>\n",
       "  </tbody>\n",
       "</table>\n",
       "</div>"
      ],
      "text/plain": [
       "        authorized_flag          card_id  city_id category_1  installments  \\\n",
       "0                     Y  C_ID_415bb3a509      107          N             1   \n",
       "1                     Y  C_ID_415bb3a509      140          N             1   \n",
       "2                     Y  C_ID_415bb3a509      330          N             1   \n",
       "1963028               Y  C_ID_bd97b86450       69          N             1   \n",
       "1963029               Y  C_ID_c0513fd84f      130          N             0   \n",
       "1963030               Y  C_ID_a935410f8e       19          N             0   \n",
       "\n",
       "        category_3  merchant_category_id      merchant_id  month_lag  \\\n",
       "0                B                   307  M_ID_b0c793002c          1   \n",
       "1                B                   307  M_ID_88920c89e8          1   \n",
       "2                B                   507  M_ID_ad5237ef6b          2   \n",
       "1963028          B                   278  M_ID_9a9ccb6544          1   \n",
       "1963029          A                   367  M_ID_40c28d596f          1   \n",
       "1963030          A                   278  M_ID_d855771cd9          2   \n",
       "\n",
       "         purchase_amount        purchase_date  category_2  state_id  \\\n",
       "0              -0.557574  2018-03-11 14:57:36         1.0         9   \n",
       "1              -0.569580  2018-03-19 18:53:37         1.0         9   \n",
       "2              -0.551037  2018-04-26 14:08:44         1.0         9   \n",
       "1963028        -0.621031  2018-03-05 12:04:56         1.0         9   \n",
       "1963029        -0.656749  2018-03-09 14:47:05         3.0         7   \n",
       "1963030        -0.739395  2018-04-11 07:59:46         1.0         9   \n",
       "\n",
       "         subsector_id  \n",
       "0                  19  \n",
       "1                  19  \n",
       "2                  14  \n",
       "1963028            37  \n",
       "1963029            16  \n",
       "1963030            37  "
      ]
     },
     "execution_count": 6,
     "metadata": {},
     "output_type": "execute_result"
    }
   ],
   "source": [
    "# Preview of new_transactions dataset\n",
    "new_transactions.head(3).append(new_transactions.tail(3))"
   ]
  },
  {
   "cell_type": "code",
   "execution_count": 7,
   "metadata": {},
   "outputs": [
    {
     "data": {
      "text/html": [
       "<div>\n",
       "<style scoped>\n",
       "    .dataframe tbody tr th:only-of-type {\n",
       "        vertical-align: middle;\n",
       "    }\n",
       "\n",
       "    .dataframe tbody tr th {\n",
       "        vertical-align: top;\n",
       "    }\n",
       "\n",
       "    .dataframe thead th {\n",
       "        text-align: right;\n",
       "    }\n",
       "</style>\n",
       "<table border=\"1\" class=\"dataframe\">\n",
       "  <thead>\n",
       "    <tr style=\"text-align: right;\">\n",
       "      <th></th>\n",
       "      <th>authorized_flag</th>\n",
       "      <th>card_id</th>\n",
       "      <th>city_id</th>\n",
       "      <th>category_1</th>\n",
       "      <th>installments</th>\n",
       "      <th>category_3</th>\n",
       "      <th>merchant_category_id</th>\n",
       "      <th>merchant_id</th>\n",
       "      <th>month_lag</th>\n",
       "      <th>purchase_amount</th>\n",
       "      <th>purchase_date</th>\n",
       "      <th>category_2</th>\n",
       "      <th>state_id</th>\n",
       "      <th>subsector_id</th>\n",
       "    </tr>\n",
       "  </thead>\n",
       "  <tbody>\n",
       "    <tr>\n",
       "      <th>0</th>\n",
       "      <td>Y</td>\n",
       "      <td>C_ID_4e6213e9bc</td>\n",
       "      <td>88</td>\n",
       "      <td>N</td>\n",
       "      <td>0</td>\n",
       "      <td>A</td>\n",
       "      <td>80</td>\n",
       "      <td>M_ID_e020e9b302</td>\n",
       "      <td>-8</td>\n",
       "      <td>-0.703331</td>\n",
       "      <td>2017-06-25 15:33:07</td>\n",
       "      <td>1.0</td>\n",
       "      <td>16</td>\n",
       "      <td>37</td>\n",
       "    </tr>\n",
       "    <tr>\n",
       "      <th>1</th>\n",
       "      <td>Y</td>\n",
       "      <td>C_ID_4e6213e9bc</td>\n",
       "      <td>88</td>\n",
       "      <td>N</td>\n",
       "      <td>0</td>\n",
       "      <td>A</td>\n",
       "      <td>367</td>\n",
       "      <td>M_ID_86ec983688</td>\n",
       "      <td>-7</td>\n",
       "      <td>-0.733128</td>\n",
       "      <td>2017-07-15 12:10:45</td>\n",
       "      <td>1.0</td>\n",
       "      <td>16</td>\n",
       "      <td>16</td>\n",
       "    </tr>\n",
       "    <tr>\n",
       "      <th>2</th>\n",
       "      <td>Y</td>\n",
       "      <td>C_ID_4e6213e9bc</td>\n",
       "      <td>88</td>\n",
       "      <td>N</td>\n",
       "      <td>0</td>\n",
       "      <td>A</td>\n",
       "      <td>80</td>\n",
       "      <td>M_ID_979ed661fc</td>\n",
       "      <td>-6</td>\n",
       "      <td>-0.720386</td>\n",
       "      <td>2017-08-09 22:04:29</td>\n",
       "      <td>1.0</td>\n",
       "      <td>16</td>\n",
       "      <td>37</td>\n",
       "    </tr>\n",
       "    <tr>\n",
       "      <th>29112358</th>\n",
       "      <td>Y</td>\n",
       "      <td>C_ID_5c240d6e3c</td>\n",
       "      <td>3</td>\n",
       "      <td>N</td>\n",
       "      <td>0</td>\n",
       "      <td>A</td>\n",
       "      <td>278</td>\n",
       "      <td>M_ID_9cdcfe8673</td>\n",
       "      <td>0</td>\n",
       "      <td>-0.657740</td>\n",
       "      <td>2017-12-26 18:37:51</td>\n",
       "      <td>1.0</td>\n",
       "      <td>16</td>\n",
       "      <td>37</td>\n",
       "    </tr>\n",
       "    <tr>\n",
       "      <th>29112359</th>\n",
       "      <td>Y</td>\n",
       "      <td>C_ID_5c240d6e3c</td>\n",
       "      <td>331</td>\n",
       "      <td>N</td>\n",
       "      <td>0</td>\n",
       "      <td>A</td>\n",
       "      <td>514</td>\n",
       "      <td>M_ID_1a75f94f92</td>\n",
       "      <td>-1</td>\n",
       "      <td>0.770620</td>\n",
       "      <td>2017-11-24 14:18:15</td>\n",
       "      <td>1.0</td>\n",
       "      <td>16</td>\n",
       "      <td>9</td>\n",
       "    </tr>\n",
       "    <tr>\n",
       "      <th>29112360</th>\n",
       "      <td>Y</td>\n",
       "      <td>C_ID_5c240d6e3c</td>\n",
       "      <td>331</td>\n",
       "      <td>N</td>\n",
       "      <td>0</td>\n",
       "      <td>A</td>\n",
       "      <td>514</td>\n",
       "      <td>M_ID_1a75f94f92</td>\n",
       "      <td>-2</td>\n",
       "      <td>1.134411</td>\n",
       "      <td>2017-10-26 14:09:40</td>\n",
       "      <td>1.0</td>\n",
       "      <td>16</td>\n",
       "      <td>9</td>\n",
       "    </tr>\n",
       "  </tbody>\n",
       "</table>\n",
       "</div>"
      ],
      "text/plain": [
       "         authorized_flag          card_id  city_id category_1  installments  \\\n",
       "0                      Y  C_ID_4e6213e9bc       88          N             0   \n",
       "1                      Y  C_ID_4e6213e9bc       88          N             0   \n",
       "2                      Y  C_ID_4e6213e9bc       88          N             0   \n",
       "29112358               Y  C_ID_5c240d6e3c        3          N             0   \n",
       "29112359               Y  C_ID_5c240d6e3c      331          N             0   \n",
       "29112360               Y  C_ID_5c240d6e3c      331          N             0   \n",
       "\n",
       "         category_3  merchant_category_id      merchant_id  month_lag  \\\n",
       "0                 A                    80  M_ID_e020e9b302         -8   \n",
       "1                 A                   367  M_ID_86ec983688         -7   \n",
       "2                 A                    80  M_ID_979ed661fc         -6   \n",
       "29112358          A                   278  M_ID_9cdcfe8673          0   \n",
       "29112359          A                   514  M_ID_1a75f94f92         -1   \n",
       "29112360          A                   514  M_ID_1a75f94f92         -2   \n",
       "\n",
       "          purchase_amount        purchase_date  category_2  state_id  \\\n",
       "0               -0.703331  2017-06-25 15:33:07         1.0        16   \n",
       "1               -0.733128  2017-07-15 12:10:45         1.0        16   \n",
       "2               -0.720386  2017-08-09 22:04:29         1.0        16   \n",
       "29112358        -0.657740  2017-12-26 18:37:51         1.0        16   \n",
       "29112359         0.770620  2017-11-24 14:18:15         1.0        16   \n",
       "29112360         1.134411  2017-10-26 14:09:40         1.0        16   \n",
       "\n",
       "          subsector_id  \n",
       "0                   37  \n",
       "1                   16  \n",
       "2                   37  \n",
       "29112358            37  \n",
       "29112359             9  \n",
       "29112360             9  "
      ]
     },
     "execution_count": 7,
     "metadata": {},
     "output_type": "execute_result"
    }
   ],
   "source": [
    "# Preview of transactions dataset\n",
    "transactions.head(3).append(transactions.tail(3))"
   ]
  },
  {
   "cell_type": "code",
   "execution_count": 8,
   "metadata": {},
   "outputs": [
    {
     "data": {
      "text/html": [
       "<div>\n",
       "<style scoped>\n",
       "    .dataframe tbody tr th:only-of-type {\n",
       "        vertical-align: middle;\n",
       "    }\n",
       "\n",
       "    .dataframe tbody tr th {\n",
       "        vertical-align: top;\n",
       "    }\n",
       "\n",
       "    .dataframe thead th {\n",
       "        text-align: right;\n",
       "    }\n",
       "</style>\n",
       "<table border=\"1\" class=\"dataframe\">\n",
       "  <thead>\n",
       "    <tr style=\"text-align: right;\">\n",
       "      <th></th>\n",
       "      <th>card_id</th>\n",
       "      <th>target</th>\n",
       "    </tr>\n",
       "  </thead>\n",
       "  <tbody>\n",
       "    <tr>\n",
       "      <th>0</th>\n",
       "      <td>C_ID_0ab67a22ab</td>\n",
       "      <td>0</td>\n",
       "    </tr>\n",
       "    <tr>\n",
       "      <th>1</th>\n",
       "      <td>C_ID_130fd0cbdd</td>\n",
       "      <td>0</td>\n",
       "    </tr>\n",
       "    <tr>\n",
       "      <th>2</th>\n",
       "      <td>C_ID_b709037bc5</td>\n",
       "      <td>0</td>\n",
       "    </tr>\n",
       "    <tr>\n",
       "      <th>123620</th>\n",
       "      <td>C_ID_21d56d950c</td>\n",
       "      <td>0</td>\n",
       "    </tr>\n",
       "    <tr>\n",
       "      <th>123621</th>\n",
       "      <td>C_ID_6c46fc5a9d</td>\n",
       "      <td>0</td>\n",
       "    </tr>\n",
       "    <tr>\n",
       "      <th>123622</th>\n",
       "      <td>C_ID_87e7979a5f</td>\n",
       "      <td>0</td>\n",
       "    </tr>\n",
       "  </tbody>\n",
       "</table>\n",
       "</div>"
      ],
      "text/plain": [
       "                card_id  target\n",
       "0       C_ID_0ab67a22ab       0\n",
       "1       C_ID_130fd0cbdd       0\n",
       "2       C_ID_b709037bc5       0\n",
       "123620  C_ID_21d56d950c       0\n",
       "123621  C_ID_6c46fc5a9d       0\n",
       "123622  C_ID_87e7979a5f       0"
      ]
     },
     "execution_count": 8,
     "metadata": {},
     "output_type": "execute_result"
    }
   ],
   "source": [
    "# Preview of sample_submission dataset\n",
    "sample_submission.head(3).append(sample_submission.tail(3))"
   ]
  },
  {
   "cell_type": "markdown",
   "metadata": {},
   "source": [
    "What kind of data type our features have? Let's take a look!"
   ]
  },
  {
   "cell_type": "code",
   "execution_count": 9,
   "metadata": {},
   "outputs": [
    {
     "name": "stdout",
     "output_type": "stream",
     "text": [
      "<class 'pandas.core.frame.DataFrame'>\n",
      "RangeIndex: 201917 entries, 0 to 201916\n",
      "Data columns (total 6 columns):\n",
      "first_active_month    201917 non-null object\n",
      "card_id               201917 non-null object\n",
      "feature_1             201917 non-null int64\n",
      "feature_2             201917 non-null int64\n",
      "feature_3             201917 non-null int64\n",
      "target                201917 non-null float64\n",
      "dtypes: float64(1), int64(3), object(2)\n",
      "memory usage: 9.2+ MB\n",
      "<class 'pandas.core.frame.DataFrame'>\n",
      "RangeIndex: 123623 entries, 0 to 123622\n",
      "Data columns (total 5 columns):\n",
      "first_active_month    123622 non-null object\n",
      "card_id               123623 non-null object\n",
      "feature_1             123623 non-null int64\n",
      "feature_2             123623 non-null int64\n",
      "feature_3             123623 non-null int64\n",
      "dtypes: int64(3), object(2)\n",
      "memory usage: 4.7+ MB\n",
      "<class 'pandas.core.frame.DataFrame'>\n",
      "RangeIndex: 334696 entries, 0 to 334695\n",
      "Data columns (total 22 columns):\n",
      "merchant_id                    334696 non-null object\n",
      "merchant_group_id              334696 non-null int64\n",
      "merchant_category_id           334696 non-null int64\n",
      "subsector_id                   334696 non-null int64\n",
      "numerical_1                    334696 non-null float64\n",
      "numerical_2                    334696 non-null float64\n",
      "category_1                     334696 non-null object\n",
      "most_recent_sales_range        334696 non-null object\n",
      "most_recent_purchases_range    334696 non-null object\n",
      "avg_sales_lag3                 334683 non-null float64\n",
      "avg_purchases_lag3             334696 non-null float64\n",
      "active_months_lag3             334696 non-null int64\n",
      "avg_sales_lag6                 334683 non-null float64\n",
      "avg_purchases_lag6             334696 non-null float64\n",
      "active_months_lag6             334696 non-null int64\n",
      "avg_sales_lag12                334683 non-null float64\n",
      "avg_purchases_lag12            334696 non-null float64\n",
      "active_months_lag12            334696 non-null int64\n",
      "category_4                     334696 non-null object\n",
      "city_id                        334696 non-null int64\n",
      "state_id                       334696 non-null int64\n",
      "category_2                     322809 non-null float64\n",
      "dtypes: float64(9), int64(8), object(5)\n",
      "memory usage: 56.2+ MB\n",
      "<class 'pandas.core.frame.DataFrame'>\n",
      "RangeIndex: 29112361 entries, 0 to 29112360\n",
      "Data columns (total 14 columns):\n",
      "authorized_flag         object\n",
      "card_id                 object\n",
      "city_id                 int64\n",
      "category_1              object\n",
      "installments            int64\n",
      "category_3              object\n",
      "merchant_category_id    int64\n",
      "merchant_id             object\n",
      "month_lag               int64\n",
      "purchase_amount         float64\n",
      "purchase_date           object\n",
      "category_2              float64\n",
      "state_id                int64\n",
      "subsector_id            int64\n",
      "dtypes: float64(2), int64(6), object(6)\n",
      "memory usage: 3.0+ GB\n",
      "<class 'pandas.core.frame.DataFrame'>\n",
      "RangeIndex: 1963031 entries, 0 to 1963030\n",
      "Data columns (total 14 columns):\n",
      "authorized_flag         object\n",
      "card_id                 object\n",
      "city_id                 int64\n",
      "category_1              object\n",
      "installments            int64\n",
      "category_3              object\n",
      "merchant_category_id    int64\n",
      "merchant_id             object\n",
      "month_lag               int64\n",
      "purchase_amount         float64\n",
      "purchase_date           object\n",
      "category_2              float64\n",
      "state_id                int64\n",
      "subsector_id            int64\n",
      "dtypes: float64(2), int64(6), object(6)\n",
      "memory usage: 209.7+ MB\n"
     ]
    }
   ],
   "source": [
    "# Obtaining general info about the dataset\n",
    "train_data.info()\n",
    "test_data.info()\n",
    "merchants.info()\n",
    "transactions.info()\n",
    "new_transactions.info()"
   ]
  },
  {
   "cell_type": "markdown",
   "metadata": {},
   "source": [
    "This provides with useful information. Some of the data that should be datetime are classified as objects. Also, when we look at the number of non-null registers we notice that it doesn't to the total number of entries, meaning we might have some missing values. "
   ]
  },
  {
   "cell_type": "markdown",
   "metadata": {},
   "source": [
    "Now we are going to investigate if we have missing data, and try to figure how to fix them, if possible."
   ]
  },
  {
   "cell_type": "code",
   "execution_count": 10,
   "metadata": {},
   "outputs": [
    {
     "name": "stdout",
     "output_type": "stream",
     "text": [
      "Great! There are no missing values in this dataset.\n"
     ]
    }
   ],
   "source": [
    "check_missing(train_data)"
   ]
  },
  {
   "cell_type": "markdown",
   "metadata": {},
   "source": [
    "No missing values at train_data! Great! Next is test_data"
   ]
  },
  {
   "cell_type": "code",
   "execution_count": 11,
   "metadata": {},
   "outputs": [
    {
     "data": {
      "text/html": [
       "<div>\n",
       "<style scoped>\n",
       "    .dataframe tbody tr th:only-of-type {\n",
       "        vertical-align: middle;\n",
       "    }\n",
       "\n",
       "    .dataframe tbody tr th {\n",
       "        vertical-align: top;\n",
       "    }\n",
       "\n",
       "    .dataframe thead th {\n",
       "        text-align: right;\n",
       "    }\n",
       "</style>\n",
       "<table border=\"1\" class=\"dataframe\">\n",
       "  <thead>\n",
       "    <tr style=\"text-align: right;\">\n",
       "      <th></th>\n",
       "      <th>Missing n</th>\n",
       "      <th>% Missing</th>\n",
       "    </tr>\n",
       "  </thead>\n",
       "  <tbody>\n",
       "    <tr>\n",
       "      <th>first_active_month</th>\n",
       "      <td>1</td>\n",
       "      <td>0.000809</td>\n",
       "    </tr>\n",
       "    <tr>\n",
       "      <th>card_id</th>\n",
       "      <td>0</td>\n",
       "      <td>0.000000</td>\n",
       "    </tr>\n",
       "    <tr>\n",
       "      <th>feature_1</th>\n",
       "      <td>0</td>\n",
       "      <td>0.000000</td>\n",
       "    </tr>\n",
       "    <tr>\n",
       "      <th>feature_2</th>\n",
       "      <td>0</td>\n",
       "      <td>0.000000</td>\n",
       "    </tr>\n",
       "    <tr>\n",
       "      <th>feature_3</th>\n",
       "      <td>0</td>\n",
       "      <td>0.000000</td>\n",
       "    </tr>\n",
       "  </tbody>\n",
       "</table>\n",
       "</div>"
      ],
      "text/plain": [
       "                    Missing n  % Missing\n",
       "first_active_month          1   0.000809\n",
       "card_id                     0   0.000000\n",
       "feature_1                   0   0.000000\n",
       "feature_2                   0   0.000000\n",
       "feature_3                   0   0.000000"
      ]
     },
     "execution_count": 11,
     "metadata": {},
     "output_type": "execute_result"
    }
   ],
   "source": [
    "check_missing(test_data)"
   ]
  },
  {
   "cell_type": "markdown",
   "metadata": {},
   "source": [
    "There is one register with missing data on the test dataset. The card_id referenced is C_ID_c27b4f80f7 and shows up in the transactions dataset, where the earliest purchase date was on 2017-03. With this info we can fill up the missing data."
   ]
  },
  {
   "cell_type": "code",
   "execution_count": 12,
   "metadata": {},
   "outputs": [
    {
     "data": {
      "text/html": [
       "<div>\n",
       "<style scoped>\n",
       "    .dataframe tbody tr th:only-of-type {\n",
       "        vertical-align: middle;\n",
       "    }\n",
       "\n",
       "    .dataframe tbody tr th {\n",
       "        vertical-align: top;\n",
       "    }\n",
       "\n",
       "    .dataframe thead th {\n",
       "        text-align: right;\n",
       "    }\n",
       "</style>\n",
       "<table border=\"1\" class=\"dataframe\">\n",
       "  <thead>\n",
       "    <tr style=\"text-align: right;\">\n",
       "      <th></th>\n",
       "      <th>first_active_month</th>\n",
       "      <th>card_id</th>\n",
       "      <th>feature_1</th>\n",
       "      <th>feature_2</th>\n",
       "      <th>feature_3</th>\n",
       "    </tr>\n",
       "  </thead>\n",
       "  <tbody>\n",
       "    <tr>\n",
       "      <th>11578</th>\n",
       "      <td>NaN</td>\n",
       "      <td>C_ID_c27b4f80f7</td>\n",
       "      <td>5</td>\n",
       "      <td>2</td>\n",
       "      <td>1</td>\n",
       "    </tr>\n",
       "  </tbody>\n",
       "</table>\n",
       "</div>"
      ],
      "text/plain": [
       "      first_active_month          card_id  feature_1  feature_2  feature_3\n",
       "11578                NaN  C_ID_c27b4f80f7          5          2          1"
      ]
     },
     "execution_count": 12,
     "metadata": {},
     "output_type": "execute_result"
    }
   ],
   "source": [
    "# Identifying which register has a missing value\n",
    "\n",
    "test_data.loc[test_data['first_active_month'].isnull(),:]"
   ]
  },
  {
   "cell_type": "code",
   "execution_count": 13,
   "metadata": {},
   "outputs": [
    {
     "data": {
      "text/html": [
       "<div>\n",
       "<style scoped>\n",
       "    .dataframe tbody tr th:only-of-type {\n",
       "        vertical-align: middle;\n",
       "    }\n",
       "\n",
       "    .dataframe tbody tr th {\n",
       "        vertical-align: top;\n",
       "    }\n",
       "\n",
       "    .dataframe thead th {\n",
       "        text-align: right;\n",
       "    }\n",
       "</style>\n",
       "<table border=\"1\" class=\"dataframe\">\n",
       "  <thead>\n",
       "    <tr style=\"text-align: right;\">\n",
       "      <th></th>\n",
       "      <th>purchase_date</th>\n",
       "    </tr>\n",
       "  </thead>\n",
       "  <tbody>\n",
       "    <tr>\n",
       "      <th>25672893</th>\n",
       "      <td>2017-03-09 01:34:22</td>\n",
       "    </tr>\n",
       "  </tbody>\n",
       "</table>\n",
       "</div>"
      ],
      "text/plain": [
       "                purchase_date\n",
       "25672893  2017-03-09 01:34:22"
      ]
     },
     "execution_count": 13,
     "metadata": {},
     "output_type": "execute_result"
    }
   ],
   "source": [
    "# Looking up for any purchases from C_ID_c27b4f80f7 card in the transactions/new_transactions dataset.\n",
    "\n",
    "# new_transactions.loc[new_transactions['card_id'] == 'C_ID_c27b4f80f7', :] # No transactions were found in this dataset\n",
    "transactions.loc[transactions['card_id'] == 'C_ID_c27b4f80f7', ['purchase_date']].sort_values(by = 'purchase_date', ascending = True).head(1)"
   ]
  },
  {
   "cell_type": "markdown",
   "metadata": {},
   "source": [
    "So now we will set 'first_active_month' as '2017-03' for the card_id = 'C_ID_c27b4f80f7', and double check again for missing values"
   ]
  },
  {
   "cell_type": "code",
   "execution_count": 14,
   "metadata": {},
   "outputs": [
    {
     "name": "stdout",
     "output_type": "stream",
     "text": [
      "Great! There are no missing values in this dataset.\n"
     ]
    }
   ],
   "source": [
    "# Fill in the missing value of 'first_active_month'.\n",
    "test_data.loc[test_data['first_active_month'].isnull(),'first_active_month'] = '2017-03'\n",
    "\n",
    "check_missing(test_data)"
   ]
  },
  {
   "cell_type": "markdown",
   "metadata": {},
   "source": [
    "What about merchants?\n",
    "\n",
    "I'll save it for another time. Right now it isn't the focus and only if needed to improve the model I may come back to consider it later. "
   ]
  },
  {
   "cell_type": "markdown",
   "metadata": {},
   "source": [
    "Transactions?\n",
    "\n",
    "There are 2 files for transactions. One containing historical data and another with transactions from new merchants.\n",
    "I'm calling it transactions and new_transactions. Any missing data?"
   ]
  },
  {
   "cell_type": "code",
   "execution_count": 15,
   "metadata": {},
   "outputs": [
    {
     "data": {
      "text/html": [
       "<div>\n",
       "<style scoped>\n",
       "    .dataframe tbody tr th:only-of-type {\n",
       "        vertical-align: middle;\n",
       "    }\n",
       "\n",
       "    .dataframe tbody tr th {\n",
       "        vertical-align: top;\n",
       "    }\n",
       "\n",
       "    .dataframe thead th {\n",
       "        text-align: right;\n",
       "    }\n",
       "</style>\n",
       "<table border=\"1\" class=\"dataframe\">\n",
       "  <thead>\n",
       "    <tr style=\"text-align: right;\">\n",
       "      <th></th>\n",
       "      <th>Missing n</th>\n",
       "      <th>% Missing</th>\n",
       "    </tr>\n",
       "  </thead>\n",
       "  <tbody>\n",
       "    <tr>\n",
       "      <th>category_2</th>\n",
       "      <td>111745</td>\n",
       "      <td>5.692473</td>\n",
       "    </tr>\n",
       "    <tr>\n",
       "      <th>category_3</th>\n",
       "      <td>55922</td>\n",
       "      <td>2.848758</td>\n",
       "    </tr>\n",
       "    <tr>\n",
       "      <th>merchant_id</th>\n",
       "      <td>26216</td>\n",
       "      <td>1.335486</td>\n",
       "    </tr>\n",
       "    <tr>\n",
       "      <th>authorized_flag</th>\n",
       "      <td>0</td>\n",
       "      <td>0.000000</td>\n",
       "    </tr>\n",
       "    <tr>\n",
       "      <th>card_id</th>\n",
       "      <td>0</td>\n",
       "      <td>0.000000</td>\n",
       "    </tr>\n",
       "  </tbody>\n",
       "</table>\n",
       "</div>"
      ],
      "text/plain": [
       "                 Missing n  % Missing\n",
       "category_2          111745   5.692473\n",
       "category_3           55922   2.848758\n",
       "merchant_id          26216   1.335486\n",
       "authorized_flag          0   0.000000\n",
       "card_id                  0   0.000000"
      ]
     },
     "execution_count": 15,
     "metadata": {},
     "output_type": "execute_result"
    }
   ],
   "source": [
    "check_missing(new_transactions)"
   ]
  },
  {
   "cell_type": "code",
   "execution_count": 16,
   "metadata": {},
   "outputs": [
    {
     "data": {
      "text/html": [
       "<div>\n",
       "<style scoped>\n",
       "    .dataframe tbody tr th:only-of-type {\n",
       "        vertical-align: middle;\n",
       "    }\n",
       "\n",
       "    .dataframe tbody tr th {\n",
       "        vertical-align: top;\n",
       "    }\n",
       "\n",
       "    .dataframe thead th {\n",
       "        text-align: right;\n",
       "    }\n",
       "</style>\n",
       "<table border=\"1\" class=\"dataframe\">\n",
       "  <thead>\n",
       "    <tr style=\"text-align: right;\">\n",
       "      <th></th>\n",
       "      <th>Missing n</th>\n",
       "      <th>% Missing</th>\n",
       "    </tr>\n",
       "  </thead>\n",
       "  <tbody>\n",
       "    <tr>\n",
       "      <th>category_2</th>\n",
       "      <td>2652864</td>\n",
       "      <td>9.112500</td>\n",
       "    </tr>\n",
       "    <tr>\n",
       "      <th>category_3</th>\n",
       "      <td>178159</td>\n",
       "      <td>0.611970</td>\n",
       "    </tr>\n",
       "    <tr>\n",
       "      <th>merchant_id</th>\n",
       "      <td>138481</td>\n",
       "      <td>0.475678</td>\n",
       "    </tr>\n",
       "    <tr>\n",
       "      <th>authorized_flag</th>\n",
       "      <td>0</td>\n",
       "      <td>0.000000</td>\n",
       "    </tr>\n",
       "    <tr>\n",
       "      <th>card_id</th>\n",
       "      <td>0</td>\n",
       "      <td>0.000000</td>\n",
       "    </tr>\n",
       "  </tbody>\n",
       "</table>\n",
       "</div>"
      ],
      "text/plain": [
       "                 Missing n  % Missing\n",
       "category_2         2652864   9.112500\n",
       "category_3          178159   0.611970\n",
       "merchant_id         138481   0.475678\n",
       "authorized_flag          0   0.000000\n",
       "card_id                  0   0.000000"
      ]
     },
     "execution_count": 16,
     "metadata": {},
     "output_type": "execute_result"
    }
   ],
   "source": [
    "check_missing(transactions)"
   ]
  },
  {
   "cell_type": "markdown",
   "metadata": {},
   "source": [
    "We have missing data in both datasets, and we will fill those missing values with the mode."
   ]
  },
  {
   "cell_type": "code",
   "execution_count": 17,
   "metadata": {},
   "outputs": [],
   "source": [
    "for df in [new_transactions, transactions]:\n",
    "    df['category_2'].fillna(1.0, inplace = True)\n",
    "    df['category_3'].fillna('A', inplace = True)\n",
    "    df['merchant_id'].fillna('M_ID_00a6ca8a8a', inplace = True)"
   ]
  },
  {
   "cell_type": "markdown",
   "metadata": {},
   "source": [
    "# Checkpoint 1"
   ]
  },
  {
   "cell_type": "code",
   "execution_count": 18,
   "metadata": {},
   "outputs": [],
   "source": [
    "dataframes = [train_data, test_data, transactions, new_transactions]\n",
    "df_title = [title + '_v7_ckp1.pkl' for title in ['train_data', 'test_data', 'transactions', 'new_transactions']]\n",
    "\n",
    "for df, title in zip(dataframes, df_title):\n",
    "    with open( title, 'wb') as pkl_f:\n",
    "        pickle.dump(df, pkl_f)"
   ]
  },
  {
   "cell_type": "code",
   "execution_count": null,
   "metadata": {},
   "outputs": [],
   "source": [
    "with open( 'train_data_v7_ckp1.pkl', 'rb') as pkl_f:\n",
    "    train_data = pickle.load(pkl_f)\n",
    "with open( 'test_data_v7_ckp1.pkl', 'rb') as pkl_f:\n",
    "    test_data = pickle.load(pkl_f)\n",
    "with open( 'transactions_v7_ckp1.pkl', 'rb') as pkl_f:\n",
    "    transactions = pickle.load(pkl_f)\n",
    "with open( 'new_transactions_v7_ckp1.pkl', 'rb') as pkl_f:\n",
    "    new_transactions = pickle.load(pkl_f)"
   ]
  },
  {
   "cell_type": "code",
   "execution_count": 19,
   "metadata": {},
   "outputs": [
    {
     "name": "stdout",
     "output_type": "stream",
     "text": [
      "(1963031, 14)\n",
      "(29112361, 14)\n"
     ]
    }
   ],
   "source": [
    "print(new_transactions.shape) #1963031\n",
    "print(transactions.shape) #29112361"
   ]
  },
  {
   "cell_type": "markdown",
   "metadata": {},
   "source": [
    "Now that the missing data has been handled. Let'go explore other features"
   ]
  },
  {
   "cell_type": "markdown",
   "metadata": {},
   "source": [
    "We should investigate better 'installments' to comprehend what 0, -1 and 999 means. "
   ]
  },
  {
   "cell_type": "code",
   "execution_count": 20,
   "metadata": {},
   "outputs": [
    {
     "data": {
      "text/plain": [
       " 0      46.980613\n",
       " 1      42.596271\n",
       "-1       2.848758\n",
       " 2       2.787984\n",
       " 3       2.279638\n",
       " 4       0.754700\n",
       " 6       0.529233\n",
       " 5       0.473553\n",
       " 10      0.453330\n",
       " 12      0.145184\n",
       " 8       0.079214\n",
       " 7       0.043963\n",
       " 9       0.024350\n",
       " 11      0.003107\n",
       " 999     0.000102\n",
       "Name: installments, dtype: float64"
      ]
     },
     "execution_count": 20,
     "metadata": {},
     "output_type": "execute_result"
    }
   ],
   "source": [
    "new_transactions['installments'].value_counts(1)*100"
   ]
  },
  {
   "cell_type": "markdown",
   "metadata": {},
   "source": [
    "It seems -1 and 999 represent missing values. So let's replace the values in categorical features and in installments for NaN."
   ]
  },
  {
   "cell_type": "code",
   "execution_count": null,
   "metadata": {},
   "outputs": [],
   "source": [
    "# Let's fix the the values we've found as -1, 999 and set it to NaN -- later\n",
    "\n",
    "#for col in ['city_id', 'state_id','subsector_id','merchant_category_id', 'installments'] :\n",
    "#    new_transactions[col].replace(-1, np.nan, inplace = True)\n",
    "#    transactions[col].replace(-1, np.nan, inplace = True)"
   ]
  },
  {
   "cell_type": "code",
   "execution_count": 21,
   "metadata": {},
   "outputs": [
    {
     "name": "stdout",
     "output_type": "stream",
     "text": [
      "Great! There are no missing values in this dataset.\n"
     ]
    }
   ],
   "source": [
    "check_missing(transactions,10)"
   ]
  },
  {
   "cell_type": "markdown",
   "metadata": {},
   "source": [
    "target"
   ]
  },
  {
   "cell_type": "code",
   "execution_count": 22,
   "metadata": {},
   "outputs": [
    {
     "data": {
      "text/plain": [
       "Text(0.5,1,'Train: target without outliers')"
      ]
     },
     "execution_count": 22,
     "metadata": {},
     "output_type": "execute_result"
    },
    {
     "data": {
      "image/png": "[encoded data removed]",
      "text/plain": [
       "<Figure size 1080x288 with 2 Axes>"
      ]
     },
     "metadata": {},
     "output_type": "display_data"
    }
   ],
   "source": [
    "plt.figure(figsize = (15,4))\n",
    "\n",
    "# Target\n",
    "plt.subplot(121)\n",
    "plt.hist(train_data['target'], bins = 100)\n",
    "plt.title('Train: target')\n",
    "\n",
    "# Target without outliers\n",
    "plt.subplot(122)\n",
    "plt.hist(train_data[train_data['target'] > train_data['target'].min()]['target'], bins = 50)\n",
    "plt.title('Train: target without outliers')"
   ]
  },
  {
   "cell_type": "code",
   "execution_count": 23,
   "metadata": {},
   "outputs": [],
   "source": [
    "replace_map = {'N':0, 'Y':1}\n",
    "\n",
    "transactions['authorized_flag'].replace(replace_map, inplace = True)\n",
    "new_transactions['authorized_flag'].replace(replace_map, inplace = True)\n",
    "\n",
    "transactions['category_1'].replace(replace_map, inplace = True)\n",
    "new_transactions['category_1'].replace(replace_map, inplace = True)"
   ]
  },
  {
   "cell_type": "code",
   "execution_count": 24,
   "metadata": {},
   "outputs": [],
   "source": [
    "# Getting the mean of authorized transactions by card_id\n",
    "\n",
    "auth_transactions = transactions.groupby(['card_id']).agg({'authorized_flag':'mean'})\n",
    "auth_transactions.columns = ['auth_trans_mean']\n",
    "\n",
    "# Splitting transactions dataset into 2. One with authorized transactions and other with denied ones\n",
    "\n",
    "transactions_authorized = transactions[transactions['authorized_flag'] == 1]\n",
    "transactions_denied = transactions[transactions['authorized_flag'] == 0]"
   ]
  },
  {
   "cell_type": "code",
   "execution_count": 25,
   "metadata": {},
   "outputs": [
    {
     "data": {
      "text/plain": [
       "Text(0.5,1,'Transactions: authorized purchases')"
      ]
     },
     "execution_count": 25,
     "metadata": {},
     "output_type": "execute_result"
    },
    {
     "data": {
      "image/png": "[encoded data removed]",
      "text/plain": [
       "<Figure size 1080x288 with 1 Axes>"
      ]
     },
     "metadata": {},
     "output_type": "display_data"
    }
   ],
   "source": [
    "plt.figure(figsize = (15,4))\n",
    "\n",
    "# Authorized transactions\n",
    "plt.subplot(121)\n",
    "plt.hist((auth_transactions['auth_trans_mean']), bins = 100)\n",
    "plt.title('Transactions: authorized purchases')"
   ]
  },
  {
   "cell_type": "code",
   "execution_count": 26,
   "metadata": {},
   "outputs": [],
   "source": [
    "def create_purchaseperinstallment(df):\n",
    "    df['temp'] = df['installments'].replace([-1,999], np.nan)\n",
    "    df['temp'] = df['temp'].replace(0, 1) ##\n",
    "    df['parcel_value'] = (df['purchase_amount'] / df['temp'])\n",
    "    del df['temp']\n",
    "\n",
    "create_purchaseperinstallment(new_transactions)\n",
    "create_purchaseperinstallment(transactions_authorized)\n",
    "create_purchaseperinstallment(transactions_denied)\n",
    "\n",
    "for df in [new_transactions, transactions_authorized, transactions_denied]:\n",
    "    df['parcel_value'].fillna(0,  inplace = True)\n"
   ]
  },
  {
   "cell_type": "markdown",
   "metadata": {},
   "source": [
    "Looking closer at dates/times.."
   ]
  },
  {
   "cell_type": "markdown",
   "metadata": {},
   "source": [
    "'purchase_date' in new_transactions ranges from '2017-03-01' to '2018-04-30'\n",
    "\n",
    "'purchase_date' in transactions ranges from '2017-01-01' to '2018-02-28'\n",
    "\n",
    "'2018-05-01' will be set as a baseline for time"
   ]
  },
  {
   "cell_type": "code",
   "execution_count": 27,
   "metadata": {},
   "outputs": [],
   "source": [
    "# Setting up a date as baseline for the analysis\n",
    "\n",
    "baseline_date = '2018-05-01'\n",
    "baseline_date = pd.to_datetime(baseline_date)"
   ]
  },
  {
   "cell_type": "code",
   "execution_count": 28,
   "metadata": {},
   "outputs": [],
   "source": [
    "# Correct and create data types and add other related date/time features\n",
    "\n",
    "def get_dates_info(df):\n",
    "    col_name = 'purchase_date'\n",
    "    \n",
    "    df[col_name] = pd.to_datetime(df[col_name])\n",
    "    df['period_day'] = df[col_name].dt.hour\n",
    "    df['weekend'] = (df[col_name].dt.weekday >=5).astype(int)\n",
    "    df['day'] = df[col_name].dt.day\n",
    "    df['year'] = df[col_name].dt.year\n",
    "    df['quarter'] = df[col_name].dt.quarter\n",
    "    df['month'] = df[col_name].dt.month\n",
    "    df['week'] = df[col_name].dt.week\n",
    "    df['weekday'] = df[col_name].dt.weekday\n",
    "    df['dayofyear'] = df[col_name].dt.dayofyear\n",
    "    df['weekofyear'] = df[col_name].dt.weekofyear\n",
    "    \n",
    "    add_period_dates(df)\n",
    "    add_holidays(df)\n",
    "    \n",
    "    temp1 = df['purchase_date'] - pd.to_timedelta(df['month_lag'], unit ='M')\n",
    "    df['ref_date'] = pd.to_datetime(temp1.dt.year.astype(str) + '-' + temp1.dt.month.astype(str))\n",
    "    df['purchase_date_age'] = (baseline_date - df['purchase_date']).dt.days\n",
    "    df['month_diff'] = (baseline_date - df['ref_date']).dt.days//30\n",
    "    df['prazo'] = (df['purchase_amount']*df['month_diff'])\n",
    "    del df['ref_date']\n",
    "\n",
    "def period_day(time_to_split):\n",
    "    time_to_split = int(time_to_split)\n",
    "    if time_to_split > 4 and time_to_split < 12:\n",
    "        return 'morning'\n",
    "    elif time_to_split >= 12 and time_to_split < 17:\n",
    "        return 'afternoon'\n",
    "    elif time_to_split >= 17 and time_to_split < 21:\n",
    "        return 'evening'\n",
    "    else:\n",
    "        return 'night'\n",
    "\n",
    "def period_month(date):\n",
    "    if date < 10:\n",
    "        period = 'beginning'\n",
    "    elif date >= 10 and date < 25:\n",
    "        period = 'middle'\n",
    "    else:\n",
    "        period = 'end'\n",
    "    return period\n",
    "\n",
    "def add_period_dates(df):\n",
    "    df['period_day_cat'] = df['period_day'].apply(lambda x: period_day(x))\n",
    "    df['period_month_cat'] = df['day'].apply(lambda x: period_month(x))\n",
    "\n",
    "def add_holidays(df):\n",
    "    \n",
    "    df['natal_2017'] = (pd.to_datetime('2017-12-25') - df['purchase_date']).dt.days.apply(lambda x: (1-x/37) if x > -7 and x < 30 else 0)\n",
    "    df['dia_maes_2017'] = (pd.to_datetime('2017-05-13') - df['purchase_date']).dt.days.apply(lambda x: (1-x/37) if x > -7 and x < 30 else 0)\n",
    "    df['dia_pais_2017'] = (pd.to_datetime('2017-08-13') - df['purchase_date']).dt.days.apply(lambda x: (1-x/37) if x > -7 and x < 30 else 0)\n",
    "    df['dia_criancas_2017'] = (pd.to_datetime('2017-10-12') - df['purchase_date']).dt.days.apply(lambda x: (1-x/37) if x > -7 and x < 30 else 0)\n",
    "    df['dia_namorados_2017'] = (pd.to_datetime('2017-06-12') - df['purchase_date']).dt.days.apply(lambda x: (1-x/37) if x > -7 and x < 30 else 0)\n",
    "    df['black_friday_2017'] = (pd.to_datetime('2017-11-24') - df['purchase_date']).dt.days.apply(lambda x: (1-x/37) if x > -7 and x < 30 else 0)\n",
    "    df['dia_maes_2018'] = (pd.to_datetime('2018-05-13') - df['purchase_date']).dt.days.apply(lambda x: (1-x/37) if x > -7 and x < 30 else 0)\n",
    "\n",
    "def interval(fun):\n",
    "    def diff_interval_(x):\n",
    "        if len(x)>2:\n",
    "            diff = np.diff(x.sort_values()).astype(np.int64)*1e-9                \n",
    "            return fun(diff)\n",
    "        else:\n",
    "            return np.nan\n",
    "    diff_interval_.__name__ = 'interval_{}'.format(fun.__name__)\n",
    "    return diff_interval_"
   ]
  },
  {
   "cell_type": "code",
   "execution_count": 29,
   "metadata": {},
   "outputs": [
    {
     "name": "stdout",
     "output_type": "stream",
     "text": [
      "Total running time: 0h:2m:23s\n"
     ]
    }
   ],
   "source": [
    "start = timeit.default_timer()\n",
    "\n",
    "get_dates_info(transactions_authorized)\n",
    "get_dates_info(transactions_denied)\n",
    "get_dates_info(new_transactions)\n",
    "\n",
    "stop = timeit.default_timer()\n",
    "show_elapsed_time(start, stop)"
   ]
  },
  {
   "cell_type": "code",
   "execution_count": 30,
   "metadata": {},
   "outputs": [],
   "source": [
    "train_data['first_active_month'] = pd.to_datetime(train_data['first_active_month'])\n",
    "train_data['card_age'] = ((baseline_date - train_data['first_active_month']).dt.days)\n",
    "\n",
    "test_data['first_active_month'] = pd.to_datetime(test_data['first_active_month'])\n",
    "test_data['card_age'] = ((baseline_date - test_data['first_active_month']).dt.days)"
   ]
  },
  {
   "cell_type": "code",
   "execution_count": 31,
   "metadata": {},
   "outputs": [],
   "source": [
    "aggs = {}\n",
    "\n",
    "aggs['purchase_amount'] = ['mean','min','max','sum']\n",
    "aggs['purchase_date'] = ['min','max']#,interval(np.mean), interval(np.min), interval(np.max), interval(np.std)]\n",
    "#aggs['purchase_month'] = ['mean','min','max'] ##\n",
    "aggs['month_lag'] = ['mean','min','max']\n",
    "aggs['month_diff'] = ['mean','min','max']\n",
    "aggs['prazo'] = ['mean']"
   ]
  },
  {
   "cell_type": "code",
   "execution_count": 32,
   "metadata": {},
   "outputs": [],
   "source": [
    "new_column_names = get_new_columns('new_trans_cat',aggs)\n",
    "file1 = new_transactions.groupby(['card_id','category_3']).agg(aggs)\n",
    "file1.columns = new_column_names\n",
    "file1.reset_index(drop = False, inplace = True)\n",
    "\n",
    "new_column_names = get_new_columns('trans_auth_cat',aggs)\n",
    "file2 = transactions_authorized.groupby(['card_id','category_3']).agg(aggs)\n",
    "file2.columns = new_column_names\n",
    "file2.reset_index(drop = False, inplace = True)\n",
    "\n",
    "new_column_names = get_new_columns('trans_denied_cat',aggs)\n",
    "file3 = transactions_denied.groupby(['card_id','category_3']).agg(aggs)\n",
    "file3.columns = new_column_names\n",
    "file3.reset_index(drop = False, inplace = True)"
   ]
  },
  {
   "cell_type": "code",
   "execution_count": 33,
   "metadata": {},
   "outputs": [],
   "source": [
    "new_file1 = file1.columns.tolist()\n",
    "new_file1.remove('category_3')\n",
    "new_file1.remove('card_id')\n",
    "\n",
    "new_file2 = file2.columns.tolist()\n",
    "new_file2.remove('category_3')\n",
    "new_file2.remove('card_id')\n",
    "\n",
    "new_file3 = file3.columns.tolist()\n",
    "new_file3.remove('category_3')\n",
    "new_file3.remove('card_id')"
   ]
  },
  {
   "cell_type": "code",
   "execution_count": 34,
   "metadata": {},
   "outputs": [],
   "source": [
    "def cols(val):\n",
    "    coll = []\n",
    "    for col in val:\n",
    "        coll.append(str(col) + '_A')\n",
    "        coll.append(str(col) + '_B')\n",
    "        coll.append(str(col) + '_C')\n",
    "    return coll"
   ]
  },
  {
   "cell_type": "code",
   "execution_count": 35,
   "metadata": {},
   "outputs": [],
   "source": [
    "val = new_file1\n",
    "file11 = file1.pivot(index = 'card_id' , columns = 'category_3' , values = val)\n",
    "file11.columns = cols(val)\n",
    "file11.reset_index(drop = False, inplace = True)\n",
    "\n",
    "val = new_file2\n",
    "file22 = file2.pivot(index = 'card_id' , columns = 'category_3' , values = val)\n",
    "file22.columns = cols(val)\n",
    "file22.reset_index(drop = False, inplace = True)\n",
    "\n",
    "val = new_file3\n",
    "file33 = file3.pivot(index = 'card_id' , columns = 'category_3' , values = val)\n",
    "file33.columns = cols(val)\n",
    "file33.reset_index(drop = False, inplace = True)"
   ]
  },
  {
   "cell_type": "code",
   "execution_count": 36,
   "metadata": {},
   "outputs": [],
   "source": [
    "train_data = train_data.merge(file11, on = 'card_id', how = 'left')\n",
    "train_data = train_data.merge(file22, on = 'card_id', how = 'left')\n",
    "train_data = train_data.merge(file33, on = 'card_id', how = 'left')\n",
    "\n",
    "test_data = test_data.merge(file11, on = 'card_id', how = 'left')\n",
    "test_data = test_data.merge(file22, on = 'card_id', how = 'left')\n",
    "test_data = test_data.merge(file33, on = 'card_id', how = 'left')"
   ]
  },
  {
   "cell_type": "code",
   "execution_count": 37,
   "metadata": {},
   "outputs": [
    {
     "data": {
      "text/plain": [
       "126"
      ]
     },
     "execution_count": 37,
     "metadata": {},
     "output_type": "execute_result"
    }
   ],
   "source": [
    "del new_file1, new_file2, new_file3,file1, file2, file3\n",
    "del file11, file22,file33\n",
    "gc.collect()"
   ]
  },
  {
   "cell_type": "code",
   "execution_count": 38,
   "metadata": {},
   "outputs": [],
   "source": [
    "# I have generated a lot of NaN due to some transactions having happened only with certain categories, and not all of them.\n",
    "for df in [train_data, test_data]:\n",
    "    df.fillna(0, axis = 1, inplace = True)"
   ]
  },
  {
   "cell_type": "code",
   "execution_count": 39,
   "metadata": {},
   "outputs": [],
   "source": [
    "new_transactions = pd.get_dummies(new_transactions, columns = ['period_day_cat', 'period_month_cat'])\n",
    "transactions_authorized = pd.get_dummies(transactions_authorized, columns = ['period_day_cat', 'period_month_cat'])\n",
    "transactions_denied = pd.get_dummies(transactions_denied, columns = ['period_day_cat', 'period_month_cat'])"
   ]
  },
  {
   "cell_type": "code",
   "execution_count": 40,
   "metadata": {},
   "outputs": [],
   "source": [
    "aggs = {}\n",
    "\n",
    "aggs['card_id'] = ['size']\n",
    "aggs['subsector_id'] = ['nunique']\n",
    "aggs['merchant_category_id'] = ['nunique']\n",
    "aggs['merchant_id'] = ['nunique']\n",
    "aggs['merchant_category_id'] = ['nunique']\n",
    "aggs['day'] = ['nunique','mean','min']\n",
    "aggs['year'] = ['nunique']\n",
    "aggs['quarter'] = ['nunique']\n",
    "aggs['month'] = ['nunique','mean','min','max','var']\n",
    "aggs['week'] = ['nunique']\n",
    "#aggs['dayofyear_pd'] = ['nunique']\n",
    "#aggs['weekofyear_pd'] = ['nunique']\n",
    "aggs['period_day'] = ['nunique']\n",
    "aggs['weekend'] = ['nunique']# -- ['sum','mean']\n",
    "\n",
    "aggs['period_day_cat_morning'] = ['mean']\n",
    "aggs['period_day_cat_afternoon'] = ['mean']\n",
    "aggs['period_day_cat_evening'] = ['mean']\n",
    "aggs['period_day_cat_night'] = ['mean']\n",
    "aggs['period_month_cat_beginning'] = ['mean']\n",
    "aggs['period_month_cat_middle'] = ['mean']\n",
    "aggs['period_month_cat_end'] = ['mean']\n",
    "\n",
    "aggs['category_1'] = ['sum', 'mean'] \n",
    "aggs['purchase_amount'] = ['mean','min','max','sum','var']\n",
    "aggs['installments'] = ['mean','min','max','sum','var'] #min remove\n",
    "aggs['purchase_date'] = ['min','max']#,interval(np.mean), interval(np.min), interval(np.max), interval(np.std)]\n",
    "#aggs['purchase_month'] = ['mean','min','max','std'] ##\n",
    "aggs['month_lag'] = ['mean','min','max','var']\n",
    "aggs['parcel_value'] = ['sum','mean','max','min','var']\n",
    "aggs['month_diff'] = ['mean','min','max','var']\n",
    "aggs['natal_2017'] = ['mean']\n",
    "aggs['dia_maes_2017'] = ['mean']\n",
    "aggs['dia_pais_2017'] = ['mean']\n",
    "aggs['dia_criancas_2017'] = ['mean']\n",
    "aggs['dia_namorados_2017'] = ['mean']\n",
    "aggs['black_friday_2017'] = ['mean']\n",
    "aggs['dia_maes_2018'] = ['mean']\n",
    "aggs['prazo'] = ['mean','min','max','var']\n"
   ]
  },
  {
   "cell_type": "code",
   "execution_count": 41,
   "metadata": {},
   "outputs": [],
   "source": [
    "new_column_names = get_new_columns('new_trans',aggs)\n",
    "card_id_new_data = new_transactions.groupby('card_id').agg(aggs)\n",
    "card_id_new_data.columns = new_column_names\n",
    "card_id_new_data.reset_index(drop = False, inplace = True)\n",
    "\n",
    "new_column_names = get_new_columns('hist_auth',aggs)\n",
    "card_id_auth_trans = transactions_authorized.groupby('card_id').agg(aggs)\n",
    "card_id_auth_trans.columns = new_column_names\n",
    "card_id_auth_trans.reset_index(drop = False, inplace = True)\n",
    "\n",
    "new_column_names = get_new_columns('hist_denied',aggs)\n",
    "card_id_denied_trans = transactions_denied.groupby('card_id').agg(aggs)\n",
    "card_id_denied_trans.columns = new_column_names\n",
    "card_id_denied_trans.reset_index(drop = False, inplace = True)"
   ]
  },
  {
   "cell_type": "code",
   "execution_count": 42,
   "metadata": {},
   "outputs": [],
   "source": [
    "def agg_categories(df):\n",
    "    for col in ['category_2','category_3']:\n",
    "        df[col+'_mean'] = df.groupby([col])['purchase_amount'].transform('mean')\n",
    "        df[col+'_std'] = df.groupby([col])['purchase_amount'].transform('std')\n",
    "        df[col+'_min'] = df.groupby([col])['purchase_amount'].transform('min')\n",
    "        df[col+'_max'] = df.groupby([col])['purchase_amount'].transform('max')\n",
    "        df[col+'_sum'] = df.groupby([col])['purchase_amount'].transform('sum')\n",
    "\n",
    "    #Colunas float16 geram problemas no modelo\n",
    "    #cols = [c for c,d in zip(df.columns, df.dtypes) if d == np.dtype('float16')]\n",
    "    #df[cols] = df[cols].astype(np.float32)"
   ]
  },
  {
   "cell_type": "code",
   "execution_count": 43,
   "metadata": {},
   "outputs": [],
   "source": [
    "agg_categories(new_transactions)\n",
    "agg_categories(transactions_authorized)\n",
    "agg_categories(transactions_denied)"
   ]
  },
  {
   "cell_type": "code",
   "execution_count": 44,
   "metadata": {},
   "outputs": [],
   "source": [
    "def add_col_to_agg(df, pref):\n",
    "    df[pref + '_purchase_date_diff'] = (df[pref + '_purchase_date_max'] - df[pref + '_purchase_date_min']).dt.days\n",
    "    df[pref + '_purchase_date_average'] = df[pref + '_purchase_date_diff']/df[pref + '_card_id_size']\n",
    "    df[pref + '_purchase_date_uptonow'] = (baseline_date - df[pref + '_purchase_date_max']).dt.days\n",
    "    df[pref + '_purchase_date_uptomin'] = (baseline_date - df[pref + '_purchase_date_min']).dt.days\n",
    "\n",
    "add_col_to_agg(card_id_new_data,'new_trans')\n",
    "add_col_to_agg(card_id_auth_trans, 'hist_auth')\n",
    "add_col_to_agg(card_id_denied_trans,'hist_denied')"
   ]
  },
  {
   "cell_type": "code",
   "execution_count": 45,
   "metadata": {},
   "outputs": [],
   "source": [
    "for df in [card_id_new_data, card_id_auth_trans,card_id_denied_trans]:\n",
    "    df.fillna(0, axis = 1, inplace = True)"
   ]
  },
  {
   "cell_type": "code",
   "execution_count": 46,
   "metadata": {},
   "outputs": [
    {
     "name": "stdout",
     "output_type": "stream",
     "text": [
      "(201917, 124)\n",
      "(123623, 123)\n"
     ]
    }
   ],
   "source": [
    "print(train_data.shape)\n",
    "print(test_data.shape)"
   ]
  },
  {
   "cell_type": "code",
   "execution_count": 47,
   "metadata": {},
   "outputs": [],
   "source": [
    "train_data = train_data.merge(card_id_new_data, on = 'card_id', how = 'left')\n",
    "train_data = train_data.merge(card_id_auth_trans, on = 'card_id', how = 'left')\n",
    "train_data = train_data.merge(card_id_denied_trans, on = 'card_id', how = 'left')\n",
    "\n",
    "test_data = test_data.merge(card_id_new_data, on = 'card_id', how = 'left')\n",
    "test_data = test_data.merge(card_id_auth_trans, on = 'card_id', how = 'left')\n",
    "test_data = test_data.merge(card_id_denied_trans, on = 'card_id', how = 'left')"
   ]
  },
  {
   "cell_type": "code",
   "execution_count": 51,
   "metadata": {},
   "outputs": [
    {
     "name": "stdout",
     "output_type": "stream",
     "text": [
      "(201917, 322)\n",
      "(123623, 321)\n"
     ]
    }
   ],
   "source": [
    "print(train_data.shape)\n",
    "print(test_data.shape)"
   ]
  },
  {
   "cell_type": "code",
   "execution_count": 52,
   "metadata": {},
   "outputs": [],
   "source": [
    "def aggregate_per_month(history):\n",
    "    grouped = history.groupby(['card_id', 'month_lag'])\n",
    "\n",
    "    agg_func = {\n",
    "            'purchase_amount': ['count', 'sum', 'mean', 'min', 'max', 'std'],\n",
    "            'installments': ['count', 'sum', 'mean', 'min', 'max', 'std'],\n",
    "            }\n",
    "\n",
    "    intermediate_group = grouped.agg(agg_func)\n",
    "    intermediate_group.columns = ['_'.join(col).strip() for col in intermediate_group.columns.values]\n",
    "    intermediate_group.reset_index(inplace=True)\n",
    "\n",
    "    final_group = intermediate_group.groupby('card_id').agg(['mean', 'std'])\n",
    "    final_group.columns = ['_'.join(col).strip() for col in final_group.columns.values]\n",
    "    final_group.reset_index(inplace=True)\n",
    "    \n",
    "    return final_group\n",
    "\n",
    "def successive_aggregates(df, field1, field2):\n",
    "    t = df.groupby(['card_id', field1])[field2].mean()\n",
    "    u = pd.DataFrame(t).reset_index().groupby('card_id')[field2].agg(['mean', 'min', 'max', 'std'])\n",
    "    u.columns = [field1 + '_' + field2 + '_' + col for col in u.columns.values]\n",
    "    u.reset_index(inplace=True)\n",
    "    return u"
   ]
  },
  {
   "cell_type": "code",
   "execution_count": 53,
   "metadata": {},
   "outputs": [],
   "source": [
    "final_group =  aggregate_per_month(transactions_authorized)\n",
    "additional_fields = successive_aggregates(new_transactions, 'category_1', 'purchase_amount')\n",
    "additional_fields = additional_fields.merge(successive_aggregates(new_transactions, 'installments', 'purchase_amount'),\n",
    "                                            on = 'card_id', how='left')\n",
    "additional_fields = additional_fields.merge(successive_aggregates(new_transactions, 'city_id', 'purchase_amount'),\n",
    "                                            on = 'card_id', how='left')\n",
    "additional_fields = additional_fields.merge(successive_aggregates(new_transactions, 'category_1', 'installments'),\n",
    "                                            on = 'card_id', how='left')"
   ]
  },
  {
   "cell_type": "code",
   "execution_count": 54,
   "metadata": {},
   "outputs": [],
   "source": [
    "train_data = train_data.merge(final_group, on = 'card_id', how = 'left')\n",
    "test_data = test_data.merge(final_group, on = 'card_id', how = 'left')\n",
    "\n",
    "train_data = train_data.merge(additional_fields, on = 'card_id', how = 'left')\n",
    "test_data = test_data.merge(additional_fields, on = 'card_id', how = 'left')"
   ]
  },
  {
   "cell_type": "code",
   "execution_count": 55,
   "metadata": {},
   "outputs": [
    {
     "data": {
      "text/plain": [
       "92"
      ]
     },
     "execution_count": 55,
     "metadata": {},
     "output_type": "execute_result"
    }
   ],
   "source": [
    "del final_group, additional_fields, transactions\n",
    "gc.collect()"
   ]
  },
  {
   "cell_type": "code",
   "execution_count": 56,
   "metadata": {},
   "outputs": [],
   "source": [
    "for df in [train_data,test_data]:\n",
    "            df['purchase_amount_ratio_v1'] = df['new_trans_purchase_amount_sum']/df['hist_auth_purchase_amount_sum']\n",
    "            df['purchase_amount_ratio_v2'] = df['new_trans_purchase_amount_mean']/df['hist_auth_purchase_amount_mean']\n",
    "            df['purchase_amount_ratio_v3'] = df['new_trans_purchase_amount_min']/df['hist_auth_purchase_amount_min']\n",
    "            df['purchase_amount_ratio_v4'] = df['new_trans_purchase_amount_max']/df['hist_auth_purchase_amount_sum']\n",
    "            df['purchase_amount_ratio_v5'] = df['new_trans_purchase_amount_max']/df['hist_auth_purchase_amount_max']\n",
    "            df['purchase_amount_diff_v1'] = df['new_trans_purchase_amount_sum']-df['hist_auth_purchase_amount_sum']\n",
    "            df['purchase_amount_diff_v2'] = df['new_trans_purchase_amount_mean']-df['hist_auth_purchase_amount_mean']\n",
    "            df['purchase_amount_diff_v3'] = df['new_trans_purchase_amount_max']-df['hist_auth_purchase_amount_max']\n",
    "            df['purchase_amount_diff_v4'] = df['new_trans_purchase_amount_min']-df['hist_auth_purchase_amount_min']\n",
    "            df['purchase_amount_diff_ratio_v1'] = df['purchase_amount_diff_v1']/df['hist_auth_purchase_amount_sum']\n",
    "            df['purchase_amount_diff_ratio_v2'] = df['purchase_amount_diff_v2']/df['hist_auth_purchase_amount_sum']\n",
    "            df['purchase_amount_diff_ratio_v3'] = df['purchase_amount_diff_v2']/df['purchase_amount_diff_v1']\n",
    "            df['pa_mlag_ratio'] = df['new_trans_purchase_amount_sum']/(df['month_lag_mean'] - 1)\n",
    "            df['pa_new_hist_ratio'] = df['new_trans_purchase_amount_sum']/(df['hist_auth_purchase_amount_sum'])\n",
    "            df['pa_new_hist_mean_ratio'] = df['new_trans_purchase_amount_mean']/(df['hist_auth_purchase_amount_mean'])\n",
    "            df['new_trans_first_buy'] = (df['new_trans_purchase_date_min'] - df['first_active_month']).dt.days\n",
    "            df['hist_auth_first_buy'] = (df['hist_auth_purchase_date_min'] - df['first_active_month']).dt.days\n",
    "            df['card_id_total'] = df['new_trans_card_id_size'] + df['hist_auth_card_id_size']\n",
    "            df['card_id_ratio'] = df['new_trans_card_id_size'] / df['hist_auth_card_id_size']\n",
    "            df['purchase_amount_total'] = df['new_trans_purchase_amount_sum'] + df['hist_auth_purchase_amount_sum']"
   ]
  },
  {
   "cell_type": "code",
   "execution_count": 57,
   "metadata": {},
   "outputs": [],
   "source": [
    "for df in [train_data,test_data]:\n",
    "    for f in ['hist_auth_purchase_date_max','hist_auth_purchase_date_min',\n",
    "              'hist_denied_purchase_date_max','hist_denied_purchase_date_min',\n",
    "              'new_trans_purchase_date_max','new_trans_purchase_date_min']:\n",
    "        df[f] = df[f].astype(np.int64) * 1e-9\n",
    "    for f in ['new_trans_cat_purchase_date_min_A','new_trans_cat_purchase_date_min_B',\n",
    "              'new_trans_cat_purchase_date_min_C', 'new_trans_cat_purchase_date_max_A',\n",
    "              'new_trans_cat_purchase_date_max_B', 'new_trans_cat_purchase_date_max_C',\n",
    "              'trans_auth_cat_purchase_date_min_A','trans_auth_cat_purchase_date_min_B',\n",
    "              'trans_auth_cat_purchase_date_min_C','trans_auth_cat_purchase_date_max_A',\n",
    "              'trans_auth_cat_purchase_date_max_B','trans_auth_cat_purchase_date_max_C',\n",
    "              'trans_denied_cat_purchase_date_min_A','trans_denied_cat_purchase_date_min_B',\n",
    "              'trans_denied_cat_purchase_date_min_C','trans_denied_cat_purchase_date_max_A',\n",
    "              'trans_denied_cat_purchase_date_max_B','trans_denied_cat_purchase_date_max_C']:\n",
    "        df[f].replace(0,np.nan, inplace= True)\n",
    "        df[f] = pd.to_datetime(df[f])\n",
    "        df[f] = df[f].astype(np.int64) * 1e-9"
   ]
  },
  {
   "cell_type": "code",
   "execution_count": 58,
   "metadata": {},
   "outputs": [
    {
     "name": "stdout",
     "output_type": "stream",
     "text": [
      "vectors generated\n",
      "missing categories found\n",
      "missing categories fullfilled\n",
      "columns sorted\n",
      "columns renamed\n",
      "vecs merged, NaNs filled\n",
      "cosine distance estimated\n",
      "features added\n"
     ]
    }
   ],
   "source": [
    "def cos_dist_quantity(new_transactions,transactions_authorized):\n",
    "\n",
    "    #generating vectors\n",
    "    ht_vec = new_transactions.reset_index(drop=True).groupby(['card_id', 'merchant_category_id']\n",
    "                                                   )['merchant_category_id'].size().unstack(fill_value=0)\n",
    "    nt_vec = transactions_authorized.reset_index(drop=True).groupby(['card_id', 'merchant_category_id']\n",
    "                                              )['merchant_category_id'].size().unstack(fill_value=0)\n",
    "    print('vectors generated')\n",
    "\n",
    "    #finding out missing merchant categories in vecs\n",
    "    ht_miss_cat = np.setdiff1d(nt_vec.columns, ht_vec.columns)\n",
    "    nt_miss_cat = np.setdiff1d(ht_vec.columns, nt_vec.columns)\n",
    "    print('missing categories found')\n",
    "\n",
    "    #fullfilling missing merchant categories\n",
    "    for cat in ht_miss_cat:\n",
    "        ht_vec[cat] = 0\n",
    "    for cat in nt_miss_cat:\n",
    "        nt_vec[cat] = 0\n",
    "    print('missing categories fullfilled')\n",
    "\n",
    "    #sorting columns\n",
    "    cols_sorted = np.sort(ht_vec.columns)\n",
    "    print('columns sorted')\n",
    "\n",
    "    ht_vec = ht_vec[cols_sorted]\n",
    "    nt_vec = nt_vec[cols_sorted]\n",
    "\n",
    "    #renaming columns\n",
    "    ht_vec.columns = ['ht_'+str(col) for col in cols_sorted]\n",
    "    nt_vec.columns = ['nt_'+str(col) for col in cols_sorted]\n",
    "    print('columns renamed')\n",
    "\n",
    "    #merging vecs and fill NaNs with 0\n",
    "    ht_nt_vec = pd.concat([ht_vec, nt_vec], axis=1, sort=False).fillna(0)\n",
    "    print('vecs merged, NaNs filled')\n",
    "\n",
    "    #estimating cosine distance\n",
    "    dot_product = np.einsum('ij,ij->i', ht_nt_vec[ht_vec.columns], ht_nt_vec[nt_vec.columns])\n",
    "    ht_vec_mod = (ht_nt_vec[ht_vec.columns] ** 2).sum(axis=1) ** (1/2)\n",
    "    nt_vec_mod = (ht_nt_vec[nt_vec.columns] ** 2).sum(axis=1) ** (1/2)\n",
    "    ht_nt_vec['cos_dist_count_by_merchant_category'] = 1 - dot_product / (ht_vec_mod * nt_vec_mod)\n",
    "    print('cosine distance estimated')\n",
    "\n",
    "\n",
    "    #train_test = train_test.merge(ht_nt_vec[['cos_dist_count_by_merchant_category']],\n",
    "    #                              how='left', left_index=True, right_index=True)\n",
    "    print('features added')\n",
    "    return ht_nt_vec[['cos_dist_count_by_merchant_category']]\n",
    "\n",
    "cos_dist_qt = cos_dist_quantity(new_transactions,transactions_authorized)\n"
   ]
  },
  {
   "cell_type": "code",
   "execution_count": 59,
   "metadata": {},
   "outputs": [
    {
     "data": {
      "text/plain": [
       "(201917, 384)"
      ]
     },
     "execution_count": 59,
     "metadata": {},
     "output_type": "execute_result"
    }
   ],
   "source": [
    "cos_dist_qt['card_id'] = cos_dist_qt.index\n",
    "cos_dist_qt.head()\n",
    "train_data.shape"
   ]
  },
  {
   "cell_type": "code",
   "execution_count": 60,
   "metadata": {},
   "outputs": [],
   "source": [
    "train_data = train_data.merge(cos_dist_qt, on = 'card_id', how = 'left')\n",
    "test_data = test_data.merge(cos_dist_qt, on = 'card_id', how = 'left')"
   ]
  },
  {
   "cell_type": "code",
   "execution_count": 61,
   "metadata": {},
   "outputs": [
    {
     "name": "stdout",
     "output_type": "stream",
     "text": [
      "vectors generated\n",
      "missing categories found\n",
      "missing categories fullfilled\n",
      "columns sorted\n",
      "columns renamed\n",
      "vecs merged, NaNs filled\n",
      "cosine distance estimated\n",
      "features added\n"
     ]
    }
   ],
   "source": [
    "def cos_dist_purchase_amount(new_transactions,transactions_authorized):\n",
    "    \n",
    "    #generating vectors\n",
    "    ht_vec = transactions_authorized.reset_index(drop=True).groupby(['card_id', 'merchant_category_id']\n",
    "                                                   )['purchase_amount'].sum().unstack(fill_value=0)\n",
    "    nt_vec = new_transactions.reset_index(drop=True).groupby(['card_id', 'merchant_category_id']\n",
    "                                              )['purchase_amount'].sum().unstack(fill_value=0)\n",
    "    print('vectors generated')\n",
    "    \n",
    "    #clearing memory\n",
    "    #del ht_auth, nt\n",
    "    #gc.collect()\n",
    "\n",
    "    #finding out missing merchant categories in vecs\n",
    "    ht_miss_cat = np.setdiff1d(nt_vec.columns, ht_vec.columns)\n",
    "    nt_miss_cat = np.setdiff1d(ht_vec.columns, nt_vec.columns)\n",
    "    print('missing categories found')\n",
    "\n",
    "    #fullfilling missing merchant categories\n",
    "    for cat in ht_miss_cat:\n",
    "        ht_vec[cat] = 0\n",
    "    for cat in nt_miss_cat:\n",
    "        nt_vec[cat] = 0\n",
    "    print('missing categories fullfilled')\n",
    "\n",
    "    #sorting columns\n",
    "    cols_sorted = np.sort(ht_vec.columns)\n",
    "    print('columns sorted')\n",
    "\n",
    "    ht_vec = ht_vec[cols_sorted]\n",
    "    nt_vec = nt_vec[cols_sorted]\n",
    "\n",
    "    #renaming columns\n",
    "    ht_vec.columns = ['ht_'+str(col) for col in cols_sorted]\n",
    "    nt_vec.columns = ['nt_'+str(col) for col in cols_sorted]\n",
    "    print('columns renamed')\n",
    "\n",
    "    #merging vecs and fill NaNs with 0\n",
    "    ht_nt_vec = pd.concat([ht_vec, nt_vec], axis=1, sort=False).fillna(0)\n",
    "    print('vecs merged, NaNs filled')\n",
    "    \n",
    "    #estimating cosine distance\n",
    "    dot_product = np.einsum('ij,ij->i', ht_nt_vec[ht_vec.columns], ht_nt_vec[nt_vec.columns])\n",
    "    ht_vec_mod = (ht_nt_vec[ht_vec.columns] ** 2).sum(axis=1) ** (1/2)\n",
    "    nt_vec_mod = (ht_nt_vec[nt_vec.columns] ** 2).sum(axis=1) ** (1/2)\n",
    "    ht_nt_vec['cos_dist_sum_by_merchant_category'] = 1 - dot_product / (ht_vec_mod * nt_vec_mod)\n",
    "    print('cosine distance estimated')\n",
    "    \n",
    "    #adding created feature to train_test\n",
    "    #with open(os.path.join(PATH_TO_DATA, 'train_test.pkl'), 'rb') as pkl_f:\n",
    "    #    train_test = pickle.load(pkl_f)\n",
    "    #print('train_test opened')\n",
    "\n",
    "    #train_test = train_test.merge(ht_nt_vec[['cos_dist_sum_by_merchant_category']],\n",
    "    #                              how='left', left_index=True, right_index=True)\n",
    "    print('features added')\n",
    "    \n",
    "    return ht_nt_vec[['cos_dist_sum_by_merchant_category']]\n",
    "\n",
    "\n",
    "cos_dist_pa = cos_dist_purchase_amount(new_transactions,transactions_authorized)\n",
    "cos_dist_pa['card_id'] = cos_dist_pa.index\n",
    "train_data = train_data.merge(cos_dist_pa, on = 'card_id', how = 'left')\n",
    "test_data = test_data.merge(cos_dist_pa, on = 'card_id', how = 'left')"
   ]
  },
  {
   "cell_type": "code",
   "execution_count": 62,
   "metadata": {},
   "outputs": [
    {
     "name": "stdout",
     "output_type": "stream",
     "text": [
      "(201917, 386)\n",
      "(123623, 385)\n"
     ]
    }
   ],
   "source": [
    "print(train_data.shape)\n",
    "print(test_data.shape)"
   ]
  },
  {
   "cell_type": "code",
   "execution_count": 63,
   "metadata": {},
   "outputs": [
    {
     "data": {
      "text/html": [
       "<div>\n",
       "<style scoped>\n",
       "    .dataframe tbody tr th:only-of-type {\n",
       "        vertical-align: middle;\n",
       "    }\n",
       "\n",
       "    .dataframe tbody tr th {\n",
       "        vertical-align: top;\n",
       "    }\n",
       "\n",
       "    .dataframe thead th {\n",
       "        text-align: right;\n",
       "    }\n",
       "</style>\n",
       "<table border=\"1\" class=\"dataframe\">\n",
       "  <thead>\n",
       "    <tr style=\"text-align: right;\">\n",
       "      <th></th>\n",
       "      <th>Missing n</th>\n",
       "      <th>% Missing</th>\n",
       "    </tr>\n",
       "  </thead>\n",
       "  <tbody>\n",
       "    <tr>\n",
       "      <th>category_1_purchase_amount_std</th>\n",
       "      <td>177210</td>\n",
       "      <td>87.763784</td>\n",
       "    </tr>\n",
       "    <tr>\n",
       "      <th>category_1_installments_std</th>\n",
       "      <td>177210</td>\n",
       "      <td>87.763784</td>\n",
       "    </tr>\n",
       "    <tr>\n",
       "      <th>installments_purchase_amount_std</th>\n",
       "      <td>147475</td>\n",
       "      <td>73.037436</td>\n",
       "    </tr>\n",
       "    <tr>\n",
       "      <th>city_id_purchase_amount_std</th>\n",
       "      <td>91969</td>\n",
       "      <td>45.547923</td>\n",
       "    </tr>\n",
       "    <tr>\n",
       "      <th>hist_denied_period_day_cat_afternoon_mean</th>\n",
       "      <td>30959</td>\n",
       "      <td>15.332538</td>\n",
       "    </tr>\n",
       "  </tbody>\n",
       "</table>\n",
       "</div>"
      ],
      "text/plain": [
       "                                           Missing n  % Missing\n",
       "category_1_purchase_amount_std                177210  87.763784\n",
       "category_1_installments_std                   177210  87.763784\n",
       "installments_purchase_amount_std              147475  73.037436\n",
       "city_id_purchase_amount_std                    91969  45.547923\n",
       "hist_denied_period_day_cat_afternoon_mean      30959  15.332538"
      ]
     },
     "execution_count": 63,
     "metadata": {},
     "output_type": "execute_result"
    }
   ],
   "source": [
    "check_missing(train_data)"
   ]
  },
  {
   "cell_type": "code",
   "execution_count": 64,
   "metadata": {},
   "outputs": [
    {
     "data": {
      "text/html": [
       "<div>\n",
       "<style scoped>\n",
       "    .dataframe tbody tr th:only-of-type {\n",
       "        vertical-align: middle;\n",
       "    }\n",
       "\n",
       "    .dataframe tbody tr th {\n",
       "        vertical-align: top;\n",
       "    }\n",
       "\n",
       "    .dataframe thead th {\n",
       "        text-align: right;\n",
       "    }\n",
       "</style>\n",
       "<table border=\"1\" class=\"dataframe\">\n",
       "  <thead>\n",
       "    <tr style=\"text-align: right;\">\n",
       "      <th></th>\n",
       "      <th>Missing n</th>\n",
       "      <th>% Missing</th>\n",
       "    </tr>\n",
       "  </thead>\n",
       "  <tbody>\n",
       "    <tr>\n",
       "      <th>category_1_purchase_amount_std</th>\n",
       "      <td>108570</td>\n",
       "      <td>87.823463</td>\n",
       "    </tr>\n",
       "    <tr>\n",
       "      <th>category_1_installments_std</th>\n",
       "      <td>108570</td>\n",
       "      <td>87.823463</td>\n",
       "    </tr>\n",
       "    <tr>\n",
       "      <th>installments_purchase_amount_std</th>\n",
       "      <td>90243</td>\n",
       "      <td>72.998552</td>\n",
       "    </tr>\n",
       "    <tr>\n",
       "      <th>city_id_purchase_amount_std</th>\n",
       "      <td>56450</td>\n",
       "      <td>45.663024</td>\n",
       "    </tr>\n",
       "    <tr>\n",
       "      <th>hist_denied_period_day_cat_afternoon_mean</th>\n",
       "      <td>18880</td>\n",
       "      <td>15.272239</td>\n",
       "    </tr>\n",
       "  </tbody>\n",
       "</table>\n",
       "</div>"
      ],
      "text/plain": [
       "                                           Missing n  % Missing\n",
       "category_1_purchase_amount_std                108570  87.823463\n",
       "category_1_installments_std                   108570  87.823463\n",
       "installments_purchase_amount_std               90243  72.998552\n",
       "city_id_purchase_amount_std                    56450  45.663024\n",
       "hist_denied_period_day_cat_afternoon_mean      18880  15.272239"
      ]
     },
     "execution_count": 64,
     "metadata": {},
     "output_type": "execute_result"
    }
   ],
   "source": [
    "check_missing(test_data)"
   ]
  },
  {
   "cell_type": "code",
   "execution_count": 65,
   "metadata": {},
   "outputs": [],
   "source": [
    "for df in [train_data, test_data]:\n",
    "    df.fillna(0, inplace = True)"
   ]
  },
  {
   "cell_type": "code",
   "execution_count": 66,
   "metadata": {},
   "outputs": [
    {
     "data": {
      "text/plain": [
       "70"
      ]
     },
     "execution_count": 66,
     "metadata": {},
     "output_type": "execute_result"
    }
   ],
   "source": [
    "del auth_transactions, transactions_authorized, transactions_denied, new_transactions, merchants, cos_dist_qt\n",
    "gc.collect()"
   ]
  },
  {
   "cell_type": "code",
   "execution_count": 67,
   "metadata": {},
   "outputs": [
    {
     "name": "stdout",
     "output_type": "stream",
     "text": [
      "feature_1\n",
      "1    0.008058\n",
      "2    0.010610\n",
      "3    0.010479\n",
      "4    0.010712\n",
      "5    0.013145\n",
      "Name: outliers, dtype: float64\n",
      "feature_2\n",
      "1    0.011385\n",
      "2    0.008752\n",
      "3    0.014166\n",
      "Name: outliers, dtype: float64\n",
      "feature_3\n",
      "0    0.010283\n",
      "1    0.011428\n",
      "Name: outliers, dtype: float64\n"
     ]
    }
   ],
   "source": [
    "train_data['outliers'] = 0\n",
    "test_data['outliers'] = 0\n",
    "train_data.loc[train_data['target'] < -30, 'outliers'] = 1\n",
    "\n",
    "for features in ['feature_1','feature_2','feature_3']:\n",
    "    order_label = train_data.groupby([features])['outliers'].mean()\n",
    "    train_data[features] = train_data[features].map(order_label)\n",
    "    test_data[features] =  test_data[features].map(order_label)"
   ]
  },
  {
   "cell_type": "code",
   "execution_count": 68,
   "metadata": {},
   "outputs": [
    {
     "name": "stdout",
     "output_type": "stream",
     "text": [
      "Total running time: 0h:8m:21s\n",
      "Duplicate Columns are as follows\n",
      "Column name :  installments_count_mean\n",
      "Column name :  installments_count_std\n",
      "Column name :  pa_new_hist_mean_ratio\n",
      "Column name :  pa_new_hist_ratio\n"
     ]
    }
   ],
   "source": [
    "start = timeit.default_timer()\n",
    "\n",
    "duplicateColumnNames = getDuplicateColumns(train_data)\n",
    "\n",
    "stop = timeit.default_timer()\n",
    "show_elapsed_time(start,stop)\n",
    "\n",
    "print('Duplicate Columns are as follows')\n",
    "for col in duplicateColumnNames:\n",
    "    print('Column name : ', col)"
   ]
  },
  {
   "cell_type": "code",
   "execution_count": 69,
   "metadata": {},
   "outputs": [
    {
     "name": "stdout",
     "output_type": "stream",
     "text": [
      "Total running time: 0h:0m:0s\n"
     ]
    }
   ],
   "source": [
    "# Delete duplicate columns\n",
    "start = timeit.default_timer()\n",
    "\n",
    "train_data.drop(columns = duplicateColumnNames, axis = 1, inplace = True)\n",
    "test_data.drop(columns = duplicateColumnNames, axis = 1, inplace = True)\n",
    "\n",
    "stop = timeit.default_timer()\n",
    "show_elapsed_time(start,stop)"
   ]
  },
  {
   "cell_type": "markdown",
   "metadata": {},
   "source": [
    "# Checkpoint 2"
   ]
  },
  {
   "cell_type": "code",
   "execution_count": 70,
   "metadata": {},
   "outputs": [],
   "source": [
    "dataframes = [train_data, test_data]\n",
    "df_title = [title + '_v7_ckp2.pkl' for title in ['train_data', 'test_data']]\n",
    "\n",
    "for df, title in zip(dataframes, df_title):\n",
    "    with open( title, 'wb') as pkl_f:\n",
    "        pickle.dump(df, pkl_f)"
   ]
  },
  {
   "cell_type": "code",
   "execution_count": null,
   "metadata": {},
   "outputs": [],
   "source": [
    "import pickle\n",
    "with open( 'train_data_v7_ckp2.pkl', 'rb') as pkl_f:\n",
    "    train_data = pickle.load(pkl_f)\n",
    "with open( 'test_data_v7_ckp2.pkl', 'rb') as pkl_f:\n",
    "    test_data = pickle.load(pkl_f)"
   ]
  },
  {
   "cell_type": "markdown",
   "metadata": {},
   "source": [
    "# 3. Feature selection"
   ]
  },
  {
   "cell_type": "code",
   "execution_count": 71,
   "metadata": {},
   "outputs": [],
   "source": [
    "fs = FeatureSelector(data = train_data, labels = train_data['target'])"
   ]
  },
  {
   "cell_type": "code",
   "execution_count": 72,
   "metadata": {},
   "outputs": [
    {
     "name": "stdout",
     "output_type": "stream",
     "text": [
      "0 features with greater than 0.50 missing values.\n",
      "\n"
     ]
    }
   ],
   "source": [
    "fs.identify_missing(missing_threshold=0.5)\n",
    "missing_features = fs.ops['missing']"
   ]
  },
  {
   "cell_type": "code",
   "execution_count": 73,
   "metadata": {},
   "outputs": [
    {
     "name": "stdout",
     "output_type": "stream",
     "text": [
      "99 features with a correlation magnitude greater than 0.95.\n",
      "\n"
     ]
    }
   ],
   "source": [
    "#fs.identify_single_unique()\n",
    "fs.identify_collinear(correlation_threshold=0.95)"
   ]
  },
  {
   "cell_type": "code",
   "execution_count": 74,
   "metadata": {},
   "outputs": [],
   "source": [
    "correlated_features = fs.ops['collinear']"
   ]
  },
  {
   "cell_type": "code",
   "execution_count": 75,
   "metadata": {},
   "outputs": [
    {
     "name": "stdout",
     "output_type": "stream",
     "text": [
      "Total of 99 features identified for removal\n"
     ]
    }
   ],
   "source": [
    "all_to_remove = fs.check_removal()"
   ]
  },
  {
   "cell_type": "code",
   "execution_count": 76,
   "metadata": {},
   "outputs": [
    {
     "name": "stdout",
     "output_type": "stream",
     "text": [
      "Removed 99 features.\n"
     ]
    }
   ],
   "source": [
    "train_removed = fs.remove(methods = ['missing','collinear'])"
   ]
  },
  {
   "cell_type": "code",
   "execution_count": 77,
   "metadata": {},
   "outputs": [
    {
     "name": "stdout",
     "output_type": "stream",
     "text": [
      "(201917, 284)\n",
      "(123623, 283)\n"
     ]
    }
   ],
   "source": [
    "train_data = train_removed.copy()\n",
    "feat = [c for c in train_data.columns if c not in ['target']]\n",
    "test_data = test_data[feat]\n",
    "print(train_data.shape)\n",
    "print(test_data.shape)"
   ]
  },
  {
   "cell_type": "code",
   "execution_count": 78,
   "metadata": {},
   "outputs": [
    {
     "name": "stderr",
     "output_type": "stream",
     "text": [
      "100%|██████████| 281/281 [00:07<00:00, 35.83it/s]\n"
     ]
    }
   ],
   "source": [
    "from scipy.stats import ks_2samp\n",
    "from tqdm import tqdm\n",
    "list_p_value =[]\n",
    "\n",
    "test_data_numeric = test_data.select_dtypes('number')\n",
    "train_data_numeric = train_data.select_dtypes('number')\n",
    "del train_data_numeric['target']\n",
    "\n",
    "for i in tqdm(train_data_numeric.columns):\n",
    "    list_p_value.append(ks_2samp(test_data_numeric[i] , train_data_numeric[i])[1])\n",
    "\n",
    "Se = pd.Series(list_p_value, index = train_data_numeric.columns).sort_values() \n",
    "list_discarded = list(Se[Se < .1].index)"
   ]
  },
  {
   "cell_type": "code",
   "execution_count": 79,
   "metadata": {},
   "outputs": [
    {
     "data": {
      "text/plain": [
       "['outliers',\n",
       " 'new_trans_prazo_mean',\n",
       " 'new_trans_parcel_value_mean',\n",
       " 'new_trans_purchase_amount_mean',\n",
       " 'installments_purchase_amount_max',\n",
       " 'hist_auth_period_day_cat_evening_mean',\n",
       " 'purchase_amount_mean_std',\n",
       " 'city_id_purchase_amount_max',\n",
       " 'new_trans_parcel_value_max',\n",
       " 'trans_denied_cat_purchase_date_min_B',\n",
       " 'installments_purchase_amount_mean',\n",
       " 'new_trans_purchase_amount_sum']"
      ]
     },
     "execution_count": 79,
     "metadata": {},
     "output_type": "execute_result"
    }
   ],
   "source": [
    "len(list_discarded)\n",
    "list_discarded"
   ]
  },
  {
   "cell_type": "code",
   "execution_count": 80,
   "metadata": {},
   "outputs": [],
   "source": [
    "for df in [train_data, test_data]:\n",
    "    df.drop(list_discarded, axis = 1, inplace = True)"
   ]
  },
  {
   "cell_type": "markdown",
   "metadata": {},
   "source": [
    "Data Normalization"
   ]
  },
  {
   "cell_type": "code",
   "execution_count": 81,
   "metadata": {},
   "outputs": [
    {
     "name": "stdout",
     "output_type": "stream",
     "text": [
      "(201917, 272)\n",
      "(123623, 271)\n"
     ]
    }
   ],
   "source": [
    "print(train_data.shape)\n",
    "print(test_data.shape)"
   ]
  },
  {
   "cell_type": "code",
   "execution_count": 82,
   "metadata": {},
   "outputs": [],
   "source": [
    "for df in [train_data, test_data]:\n",
    "    df.fillna(0, inplace = True)"
   ]
  },
  {
   "cell_type": "code",
   "execution_count": 83,
   "metadata": {},
   "outputs": [],
   "source": [
    "from sklearn.preprocessing import StandardScaler,Normalizer,FunctionTransformer,QuantileTransformer,RobustScaler,PowerTransformer\n",
    "\n",
    "scaler_x = StandardScaler()\n",
    "scaler_y = StandardScaler()\n",
    "\n",
    "rscaler_x = RobustScaler()\n",
    "rscaler_y = RobustScaler()\n",
    "\n",
    "jtrans_x = PowerTransformer(method='yeo-johnson')\n",
    "jtrans_y = PowerTransformer(method='yeo-johnson')\n",
    "\n",
    "boxcox_x = PowerTransformer(method='box-cox')\n",
    "boxcox_y = PowerTransformer(method='box-cox')\n",
    "\n",
    "qt_x = QuantileTransformer(output_distribution='normal')\n",
    "qt_y = QuantileTransformer(output_distribution='normal')\n",
    "\n",
    "\n",
    "\n",
    "temp_X_train = train_data.copy()\n",
    "temp_X_test = test_data.copy()\n",
    "\n",
    "temp_y_train = np.array(train_data['target']).reshape(-1, 1)\n",
    "\n",
    "\n",
    "select = [c for c in temp_X_train.columns if c not in ['card_id', 'first_active_month','target']]  \n",
    "temp_X_train_partial = temp_X_train[select]\n",
    "temp_X_test_partial = temp_X_test[select]\n",
    "\n",
    "\n",
    "df_normalized = pd.DataFrame(rscaler_x.fit_transform(temp_X_train_partial))\n",
    "#df_transformed = pd.DataFrame(jtrans_x.fit_transform(df_normalized))\n",
    "df_normalized.columns = select\n",
    "temp_X_train[select] = df_normalized\n",
    "\n",
    "df_normalized = pd.DataFrame(rscaler_x.transform(temp_X_test_partial))\n",
    "#df_transformed = pd.DataFrame(jtrans_x.transform(df_normalized))\n",
    "df_normalized.columns = select\n",
    "temp_X_test[select] = df_normalized\n",
    "\n",
    "df_to = pd.DataFrame(rscaler_y.fit_transform(temp_y_train))"
   ]
  },
  {
   "cell_type": "code",
   "execution_count": 84,
   "metadata": {},
   "outputs": [],
   "source": [
    "train_data = temp_X_train.copy()\n",
    "train_data['target'] = df_to\n",
    "test_data = temp_X_test.copy()"
   ]
  },
  {
   "cell_type": "code",
   "execution_count": 85,
   "metadata": {},
   "outputs": [
    {
     "name": "stdout",
     "output_type": "stream",
     "text": [
      "Great! There are no missing values in this dataset.\n"
     ]
    }
   ],
   "source": [
    "check_missing(train_data)"
   ]
  },
  {
   "cell_type": "code",
   "execution_count": 86,
   "metadata": {},
   "outputs": [],
   "source": [
    "for df in [train_data, test_data]:\n",
    "    df.fillna(0, inplace = True)"
   ]
  },
  {
   "cell_type": "markdown",
   "metadata": {},
   "source": [
    "# Model"
   ]
  },
  {
   "cell_type": "code",
   "execution_count": 87,
   "metadata": {},
   "outputs": [],
   "source": [
    "features = [c for c in train_data.columns if c not in ['card_id', 'first_active_month','target']]\n",
    "target = train_data['target']\n",
    "sub_df = pd.DataFrame({\"card_id\":test_data[\"card_id\"]})"
   ]
  },
  {
   "cell_type": "code",
   "execution_count": 88,
   "metadata": {},
   "outputs": [],
   "source": [
    "param = {'num_leaves': 111,\n",
    "         'min_data_in_leaf': 149, \n",
    "         'objective':'regression',\n",
    "         'max_depth': 9,\n",
    "         'learning_rate': 0.005,\n",
    "         \"boosting\": \"gbdt\",\n",
    "         \"feature_fraction\": 0.7522,\n",
    "         \"bagging_freq\": 1,\n",
    "         \"bagging_fraction\": 0.7083 ,\n",
    "         \"bagging_seed\": 11,\n",
    "         \"metric\": 'rmse',\n",
    "         \"lambda_l1\": 0.2634,\n",
    "         \"random_state\": 133,\n",
    "         \"verbosity\": -1}"
   ]
  },
  {
   "cell_type": "code",
   "execution_count": 89,
   "metadata": {},
   "outputs": [
    {
     "name": "stdout",
     "output_type": "stream",
     "text": [
      "fold 1\n",
      "Training until validation scores don't improve for 100 rounds.\n",
      "[100]\ttraining's rmse: 2.26268\tvalid_1's rmse: 2.23279\n",
      "[200]\ttraining's rmse: 2.2166\tvalid_1's rmse: 2.20756\n",
      "[300]\ttraining's rmse: 2.18673\tvalid_1's rmse: 2.19633\n",
      "[400]\ttraining's rmse: 2.16507\tvalid_1's rmse: 2.19115\n",
      "[500]\ttraining's rmse: 2.14821\tvalid_1's rmse: 2.18842\n",
      "[600]\ttraining's rmse: 2.13523\tvalid_1's rmse: 2.18687\n",
      "[700]\ttraining's rmse: 2.12439\tvalid_1's rmse: 2.18587\n",
      "[800]\ttraining's rmse: 2.11462\tvalid_1's rmse: 2.18523\n",
      "[900]\ttraining's rmse: 2.10557\tvalid_1's rmse: 2.1849\n",
      "[1000]\ttraining's rmse: 2.0974\tvalid_1's rmse: 2.18441\n",
      "[1100]\ttraining's rmse: 2.08983\tvalid_1's rmse: 2.18413\n",
      "[1200]\ttraining's rmse: 2.08217\tvalid_1's rmse: 2.18411\n",
      "Early stopping, best iteration is:\n",
      "[1117]\ttraining's rmse: 2.08841\tvalid_1's rmse: 2.18404\n",
      "fold 2\n",
      "Training until validation scores don't improve for 100 rounds.\n",
      "[100]\ttraining's rmse: 2.24213\tvalid_1's rmse: 2.3188\n",
      "[200]\ttraining's rmse: 2.19672\tvalid_1's rmse: 2.29005\n",
      "[300]\ttraining's rmse: 2.16767\tvalid_1's rmse: 2.27588\n",
      "[400]\ttraining's rmse: 2.14693\tvalid_1's rmse: 2.26874\n",
      "[500]\ttraining's rmse: 2.1309\tvalid_1's rmse: 2.26518\n",
      "[600]\ttraining's rmse: 2.11837\tvalid_1's rmse: 2.26319\n",
      "[700]\ttraining's rmse: 2.10791\tvalid_1's rmse: 2.2619\n",
      "[800]\ttraining's rmse: 2.0987\tvalid_1's rmse: 2.26102\n",
      "[900]\ttraining's rmse: 2.08969\tvalid_1's rmse: 2.26042\n",
      "[1000]\ttraining's rmse: 2.08104\tvalid_1's rmse: 2.26009\n",
      "[1100]\ttraining's rmse: 2.07321\tvalid_1's rmse: 2.25991\n",
      "[1200]\ttraining's rmse: 2.06577\tvalid_1's rmse: 2.25977\n",
      "[1300]\ttraining's rmse: 2.0587\tvalid_1's rmse: 2.25983\n",
      "Early stopping, best iteration is:\n",
      "[1204]\ttraining's rmse: 2.06545\tvalid_1's rmse: 2.25976\n",
      "fold 3\n",
      "Training until validation scores don't improve for 100 rounds.\n",
      "[100]\ttraining's rmse: 2.24552\tvalid_1's rmse: 2.30806\n",
      "[200]\ttraining's rmse: 2.20037\tvalid_1's rmse: 2.27781\n",
      "[300]\ttraining's rmse: 2.17182\tvalid_1's rmse: 2.26319\n",
      "[400]\ttraining's rmse: 2.15119\tvalid_1's rmse: 2.25549\n",
      "[500]\ttraining's rmse: 2.13554\tvalid_1's rmse: 2.25175\n",
      "[600]\ttraining's rmse: 2.12325\tvalid_1's rmse: 2.2495\n",
      "[700]\ttraining's rmse: 2.11242\tvalid_1's rmse: 2.24828\n",
      "[800]\ttraining's rmse: 2.10273\tvalid_1's rmse: 2.2474\n",
      "[900]\ttraining's rmse: 2.09402\tvalid_1's rmse: 2.24673\n",
      "[1000]\ttraining's rmse: 2.08571\tvalid_1's rmse: 2.24634\n",
      "[1100]\ttraining's rmse: 2.07849\tvalid_1's rmse: 2.24612\n",
      "[1200]\ttraining's rmse: 2.07126\tvalid_1's rmse: 2.24594\n",
      "[1300]\ttraining's rmse: 2.06412\tvalid_1's rmse: 2.24581\n",
      "[1400]\ttraining's rmse: 2.0571\tvalid_1's rmse: 2.24573\n",
      "[1500]\ttraining's rmse: 2.0506\tvalid_1's rmse: 2.2457\n",
      "[1600]\ttraining's rmse: 2.04381\tvalid_1's rmse: 2.2456\n",
      "Early stopping, best iteration is:\n",
      "[1594]\ttraining's rmse: 2.04422\tvalid_1's rmse: 2.2456\n",
      "fold 4\n",
      "Training until validation scores don't improve for 100 rounds.\n",
      "[100]\ttraining's rmse: 2.25562\tvalid_1's rmse: 2.26376\n",
      "[200]\ttraining's rmse: 2.21072\tvalid_1's rmse: 2.23535\n",
      "[300]\ttraining's rmse: 2.18125\tvalid_1's rmse: 2.22135\n",
      "[400]\ttraining's rmse: 2.15995\tvalid_1's rmse: 2.21319\n",
      "[500]\ttraining's rmse: 2.14439\tvalid_1's rmse: 2.20912\n",
      "[600]\ttraining's rmse: 2.13171\tvalid_1's rmse: 2.20652\n",
      "[700]\ttraining's rmse: 2.12123\tvalid_1's rmse: 2.20516\n",
      "[800]\ttraining's rmse: 2.11117\tvalid_1's rmse: 2.20407\n",
      "[900]\ttraining's rmse: 2.10261\tvalid_1's rmse: 2.20343\n",
      "[1000]\ttraining's rmse: 2.09424\tvalid_1's rmse: 2.20332\n",
      "[1100]\ttraining's rmse: 2.08644\tvalid_1's rmse: 2.20339\n",
      "Early stopping, best iteration is:\n",
      "[1045]\ttraining's rmse: 2.09098\tvalid_1's rmse: 2.20323\n",
      "fold 5\n",
      "Training until validation scores don't improve for 100 rounds.\n",
      "[100]\ttraining's rmse: 2.26234\tvalid_1's rmse: 2.23218\n",
      "[200]\ttraining's rmse: 2.21704\tvalid_1's rmse: 2.20282\n",
      "[300]\ttraining's rmse: 2.18805\tvalid_1's rmse: 2.18925\n",
      "[400]\ttraining's rmse: 2.16735\tvalid_1's rmse: 2.18239\n",
      "[500]\ttraining's rmse: 2.15118\tvalid_1's rmse: 2.17855\n",
      "[600]\ttraining's rmse: 2.13836\tvalid_1's rmse: 2.17592\n",
      "[700]\ttraining's rmse: 2.12696\tvalid_1's rmse: 2.17443\n",
      "[800]\ttraining's rmse: 2.11745\tvalid_1's rmse: 2.17347\n",
      "[900]\ttraining's rmse: 2.10801\tvalid_1's rmse: 2.1729\n",
      "[1000]\ttraining's rmse: 2.0993\tvalid_1's rmse: 2.17267\n",
      "[1100]\ttraining's rmse: 2.09141\tvalid_1's rmse: 2.17261\n",
      "[1200]\ttraining's rmse: 2.084\tvalid_1's rmse: 2.17275\n",
      "Early stopping, best iteration is:\n",
      "[1121]\ttraining's rmse: 2.0899\tvalid_1's rmse: 2.17257\n",
      "CV score: 2.21330 \n",
      "Total running time: 0h:4m:7s\n"
     ]
    }
   ],
   "source": [
    "from sklearn.model_selection import KFold,StratifiedKFold,RepeatedKFold\n",
    "from sklearn.metrics import mean_squared_error\n",
    "import time\n",
    "\n",
    "folds = KFold(n_splits=5, shuffle=True, random_state=4190)\n",
    "oof = np.zeros(len(train_data))\n",
    "predictions = np.zeros(len(test_data))\n",
    "start = timeit.default_timer()\n",
    "feature_importance_df = pd.DataFrame()\n",
    "\n",
    "for fold_, (trn_idx, val_idx) in enumerate(folds.split(train_data.values, target.values)):\n",
    "    print(\"fold {}\".format(fold_ + 1))\n",
    "    trn_data = lgb.Dataset(train_data.iloc[trn_idx][features],\n",
    "                           label=target.iloc[trn_idx]\n",
    "                          )\n",
    "    val_data = lgb.Dataset(train_data.iloc[val_idx][features],\n",
    "                           label=target.iloc[val_idx]\n",
    "                          )\n",
    "\n",
    "    num_round = 10000\n",
    "    clf = lgb.train(param,\n",
    "                    trn_data,\n",
    "                    num_round,\n",
    "                    valid_sets = [trn_data, val_data],\n",
    "                    verbose_eval=100,\n",
    "                    early_stopping_rounds = 100)\n",
    "    \n",
    "    oof[val_idx] = clf.predict(train_data.iloc[val_idx][features], num_iteration=clf.best_iteration)\n",
    "    \n",
    "    fold_importance_df = pd.DataFrame()\n",
    "    fold_importance_df[\"feature\"] = features\n",
    "    fold_importance_df[\"importance\"] = clf.feature_importance()\n",
    "    fold_importance_df[\"fold\"] = fold_ + 1\n",
    "    feature_importance_df = pd.concat([feature_importance_df, fold_importance_df], axis=0)\n",
    "    \n",
    "    predictions += clf.predict(test_data[features], num_iteration=clf.best_iteration) / folds.n_splits\n",
    "\n",
    "print(\"CV score: {:<8.5f}\".format(mean_squared_error(oof, target)**0.5))\n",
    "stop = timeit.default_timer()\n",
    "show_elapsed_time(start,stop)"
   ]
  },
  {
   "cell_type": "code",
   "execution_count": 90,
   "metadata": {},
   "outputs": [
    {
     "data": {
      "image/png": "[encoded data removed]",
      "text/plain": [
       "<Figure size 1008x1800 with 1 Axes>"
      ]
     },
     "metadata": {},
     "output_type": "display_data"
    }
   ],
   "source": [
    "cols = (feature_importance_df[[\"feature\", \"importance\"]]\n",
    "        .groupby(\"feature\")\n",
    "        .mean()\n",
    "        .sort_values(by=\"importance\", ascending=False)[:1000].index)\n",
    "\n",
    "best_features = feature_importance_df.loc[feature_importance_df.feature.isin(cols)]\n",
    "\n",
    "plt.figure(figsize=(14,25))\n",
    "sns.barplot(x=\"importance\",\n",
    "            y=\"feature\",\n",
    "            data=best_features.sort_values(by=\"importance\",\n",
    "                                           ascending=False))\n",
    "plt.title('LightGBM Features (avg over folds)')\n",
    "plt.tight_layout()\n",
    "plt.savefig('lgbm_importances.png')\n",
    "stop = timeit.default_timer()\n",
    "\n"
   ]
  },
  {
   "cell_type": "code",
   "execution_count": 91,
   "metadata": {},
   "outputs": [],
   "source": [
    "predictions_reg_lgb = np.array(predictions).reshape(-1,1)\n",
    "test_data_y_reg_lgb = pd.DataFrame(rscaler_y.inverse_transform(predictions_reg_lgb))\n",
    "test_data_y_reg_lgb.column = 'target'"
   ]
  },
  {
   "cell_type": "code",
   "execution_count": 92,
   "metadata": {},
   "outputs": [
    {
     "data": {
      "text/html": [
       "<div>\n",
       "<style scoped>\n",
       "    .dataframe tbody tr th:only-of-type {\n",
       "        vertical-align: middle;\n",
       "    }\n",
       "\n",
       "    .dataframe tbody tr th {\n",
       "        vertical-align: top;\n",
       "    }\n",
       "\n",
       "    .dataframe thead th {\n",
       "        text-align: right;\n",
       "    }\n",
       "</style>\n",
       "<table border=\"1\" class=\"dataframe\">\n",
       "  <thead>\n",
       "    <tr style=\"text-align: right;\">\n",
       "      <th></th>\n",
       "      <th>0</th>\n",
       "    </tr>\n",
       "  </thead>\n",
       "  <tbody>\n",
       "    <tr>\n",
       "      <th>count</th>\n",
       "      <td>123623.000000</td>\n",
       "    </tr>\n",
       "    <tr>\n",
       "      <th>mean</th>\n",
       "      <td>-0.392881</td>\n",
       "    </tr>\n",
       "    <tr>\n",
       "      <th>std</th>\n",
       "      <td>1.171525</td>\n",
       "    </tr>\n",
       "    <tr>\n",
       "      <th>min</th>\n",
       "      <td>-16.028104</td>\n",
       "    </tr>\n",
       "    <tr>\n",
       "      <th>25%</th>\n",
       "      <td>-0.653686</td>\n",
       "    </tr>\n",
       "    <tr>\n",
       "      <th>50%</th>\n",
       "      <td>-0.187482</td>\n",
       "    </tr>\n",
       "    <tr>\n",
       "      <th>75%</th>\n",
       "      <td>0.169513</td>\n",
       "    </tr>\n",
       "    <tr>\n",
       "      <th>max</th>\n",
       "      <td>3.274026</td>\n",
       "    </tr>\n",
       "  </tbody>\n",
       "</table>\n",
       "</div>"
      ],
      "text/plain": [
       "                   0\n",
       "count  123623.000000\n",
       "mean       -0.392881\n",
       "std         1.171525\n",
       "min       -16.028104\n",
       "25%        -0.653686\n",
       "50%        -0.187482\n",
       "75%         0.169513\n",
       "max         3.274026"
      ]
     },
     "execution_count": 92,
     "metadata": {},
     "output_type": "execute_result"
    }
   ],
   "source": [
    "final_value = test_data_y_reg_lgb\n",
    "final_value.describe()"
   ]
  },
  {
   "cell_type": "code",
   "execution_count": 93,
   "metadata": {},
   "outputs": [],
   "source": [
    "sub_df = pd.DataFrame({\"card_id\":test_data[\"card_id\"]}) \n",
    "sub_df['target'] = final_value\n",
    "sub_df.to_csv(\"submission.csv\", index = False)"
   ]
  },
  {
   "cell_type": "markdown",
   "metadata": {},
   "source": [
    "Kaggle Private LB 0.61076 Public LB 0.60385\n",
    "\n",
    "DSA Private LB 3.61379 Public LB 3.69612"
   ]
  }
 ],
 "metadata": {
  "kernelspec": {
   "display_name": "Python 3",
   "language": "python",
   "name": "python3"
  },
  "language_info": {
   "codemirror_mode": {
    "name": "ipython",
    "version": 3
   },
   "file_extension": ".py",
   "mimetype": "text/x-python",
   "name": "python",
   "nbconvert_exporter": "python",
   "pygments_lexer": "ipython3",
   "version": "3.6.5"
  }
 },
 "nbformat": 4,
 "nbformat_minor": 2
}
